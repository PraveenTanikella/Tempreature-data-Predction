{
 "cells": [
  {
   "cell_type": "markdown",
   "id": "0a84eea5",
   "metadata": {},
   "source": [
    "# Problem Statement:\n",
    "Data Set Information:\n",
    "\n",
    "This data is for the purpose of bias correction of next-day maximum and minimum air temperatures forecast of the LDAPS model operated by the Korea Meteorological Administration over Seoul, South Korea. This data consists of summer data from 2013 to 2017. The input data is largely composed of the LDAPS model's next-day forecast data, in-situ maximum and minimum temperatures of present-day, and geographic auxiliary variables. There are two outputs (i.e. next-day maximum and minimum air temperatures) in this data. Hindcast validation was conducted for the period from 2015 to 2017."
   ]
  },
  {
   "cell_type": "markdown",
   "id": "995614ce",
   "metadata": {},
   "source": [
    "**Attribute Information:**\n",
    "\n",
    "For more information, read [Cho et al, 2020].\n",
    "1. station - used weather station number: 1 to 25\n",
    "2. Date - Present day: yyyy-mm-dd ('2013-06-30' to '2017-08-30')\n",
    "3. Present_Tmax - Maximum air temperature between 0 and 21 h on the present day (Â°C): 20 to 37.6\n",
    "4. Present_Tmin - Minimum air temperature between 0 and 21 h on the present day (Â°C): 11.3 to 29.9\n",
    "5. LDAPS_RHmin - LDAPS model forecast of next-day minimum relative humidity (%): 19.8 to 98.5\n",
    "6. LDAPS_RHmax - LDAPS model forecast of next-day maximum relative humidity (%): 58.9 to 100\n",
    "7. LDAPS_Tmax_lapse - LDAPS model forecast of next-day maximum air temperature applied lapse rate (Â°C): 17.6 to 38.5\n",
    "8. LDAPS_Tmin_lapse - LDAPS model forecast of next-day minimum air temperature applied lapse rate (Â°C): 14.3 to 29.6\n",
    "9. LDAPS_WS - LDAPS model forecast of next-day average wind speed (m/s): 2.9 to 21.9\n",
    "10. LDAPS_LH - LDAPS model forecast of next-day average latent heat flux (W/m2): -13.6 to 213.4\n",
    "11. LDAPS_CC1 - LDAPS model forecast of next-day 1st 6-hour split average cloud cover (0-5 h) (%): 0 to 0.97\n",
    "12. LDAPS_CC2 - LDAPS model forecast of next-day 2nd 6-hour split average cloud cover (6-11 h) (%): 0 to 0.97\n",
    "13. LDAPS_CC3 - LDAPS model forecast of next-day 3rd 6-hour split average cloud cover (12-17 h) (%): 0 to 0.98\n",
    "14. LDAPS_CC4 - LDAPS model forecast of next-day 4th 6-hour split average cloud cover (18-23 h) (%): 0 to 0.97\n",
    "15. LDAPS_PPT1 - LDAPS model forecast of next-day 1st 6-hour split average precipitation (0-5 h) (%): 0 to 23.7\n",
    "16. LDAPS_PPT2 - LDAPS model forecast of next-day 2nd 6-hour split average precipitation (6-11 h) (%): 0 to 21.6\n",
    "17. LDAPS_PPT3 - LDAPS model forecast of next-day 3rd 6-hour split average precipitation (12-17 h) (%): 0 to 15.8\n",
    "18. LDAPS_PPT4 - LDAPS model forecast of next-day 4th 6-hour split average precipitation (18-23 h) (%): 0 to 16.7\n",
    "19. lat - Latitude (Â°): 37.456 to 37.645\n",
    "20. lon - Longitude (Â°): 126.826 to 127.135\n",
    "21. DEM - Elevation (m): 12.4 to 212.3\n",
    "22. Slope - Slope (Â°): 0.1 to 5.2\n",
    "23. Solar radiation - Daily incoming solar radiation (wh/m2): 4329.5 to 5992.9\n",
    "24. Next_Tmax - The next-day maximum air temperature (Â°C): 17.4 to 38.9\n",
    "25. Next_Tmin - The next-day minimum air temperature (Â°C): 11.3 to 29.8T\n",
    "\n",
    "Please note that there are two target variables here: \n",
    "\n",
    "1) Next_Tmax: Next day maximum temperature\n",
    "\n",
    "2) Next_Tmin: Next day  minimum temperature"
   ]
  },
  {
   "cell_type": "markdown",
   "id": "f7a63571",
   "metadata": {},
   "source": [
    "# importing required libraries"
   ]
  },
  {
   "cell_type": "code",
   "execution_count": 1,
   "id": "1e0ec515",
   "metadata": {},
   "outputs": [],
   "source": [
    "import numpy as np\n",
    "import pandas as pd\n",
    "import seaborn as sns\n",
    "import matplotlib.pyplot as plt\n",
    "from scipy.stats import zscore\n",
    "from sklearn.linear_model import LogisticRegression\n",
    "from sklearn.naive_bayes import GaussianNB\n",
    "from sklearn.svm import SVC\n",
    "from sklearn.tree import DecisionTreeClassifier,export_graphviz\n",
    "from sklearn.ensemble import RandomForestClassifier\n",
    "from sklearn.preprocessing import LabelEncoder\n",
    "from sklearn.ensemble import AdaBoostClassifier\n",
    "from sklearn.metrics import accuracy_score,confusion_matrix,classification_report,precision_recall_curve,roc_curve\n",
    "from sklearn.preprocessing import MinMaxScaler\n",
    "from sklearn.model_selection import train_test_split\n",
    "from sklearn.preprocessing import PowerTransformer\n",
    "from sklearn.model_selection import cross_val_score\n",
    "import joblib\n",
    "import warnings\n",
    "warnings.filterwarnings('ignore')"
   ]
  },
  {
   "cell_type": "markdown",
   "id": "8bcdccfe",
   "metadata": {},
   "source": [
    "# Examining the Data"
   ]
  },
  {
   "cell_type": "code",
   "execution_count": 2,
   "id": "35cd1fa4",
   "metadata": {},
   "outputs": [
    {
     "data": {
      "text/html": [
       "<div>\n",
       "<style scoped>\n",
       "    .dataframe tbody tr th:only-of-type {\n",
       "        vertical-align: middle;\n",
       "    }\n",
       "\n",
       "    .dataframe tbody tr th {\n",
       "        vertical-align: top;\n",
       "    }\n",
       "\n",
       "    .dataframe thead th {\n",
       "        text-align: right;\n",
       "    }\n",
       "</style>\n",
       "<table border=\"1\" class=\"dataframe\">\n",
       "  <thead>\n",
       "    <tr style=\"text-align: right;\">\n",
       "      <th></th>\n",
       "      <th>station</th>\n",
       "      <th>Date</th>\n",
       "      <th>Present_Tmax</th>\n",
       "      <th>Present_Tmin</th>\n",
       "      <th>LDAPS_RHmin</th>\n",
       "      <th>LDAPS_RHmax</th>\n",
       "      <th>LDAPS_Tmax_lapse</th>\n",
       "      <th>LDAPS_Tmin_lapse</th>\n",
       "      <th>LDAPS_WS</th>\n",
       "      <th>LDAPS_LH</th>\n",
       "      <th>...</th>\n",
       "      <th>LDAPS_PPT2</th>\n",
       "      <th>LDAPS_PPT3</th>\n",
       "      <th>LDAPS_PPT4</th>\n",
       "      <th>lat</th>\n",
       "      <th>lon</th>\n",
       "      <th>DEM</th>\n",
       "      <th>Slope</th>\n",
       "      <th>Solar radiation</th>\n",
       "      <th>Next_Tmax</th>\n",
       "      <th>Next_Tmin</th>\n",
       "    </tr>\n",
       "  </thead>\n",
       "  <tbody>\n",
       "    <tr>\n",
       "      <th>0</th>\n",
       "      <td>1.0</td>\n",
       "      <td>30-06-2013</td>\n",
       "      <td>28.7</td>\n",
       "      <td>21.4</td>\n",
       "      <td>58.255688</td>\n",
       "      <td>91.116364</td>\n",
       "      <td>28.074101</td>\n",
       "      <td>23.006936</td>\n",
       "      <td>6.818887</td>\n",
       "      <td>69.451805</td>\n",
       "      <td>...</td>\n",
       "      <td>0.0</td>\n",
       "      <td>0.0</td>\n",
       "      <td>0.0</td>\n",
       "      <td>37.6046</td>\n",
       "      <td>126.991</td>\n",
       "      <td>212.3350</td>\n",
       "      <td>2.7850</td>\n",
       "      <td>5992.895996</td>\n",
       "      <td>29.1</td>\n",
       "      <td>21.2</td>\n",
       "    </tr>\n",
       "    <tr>\n",
       "      <th>1</th>\n",
       "      <td>2.0</td>\n",
       "      <td>30-06-2013</td>\n",
       "      <td>31.9</td>\n",
       "      <td>21.6</td>\n",
       "      <td>52.263397</td>\n",
       "      <td>90.604721</td>\n",
       "      <td>29.850689</td>\n",
       "      <td>24.035009</td>\n",
       "      <td>5.691890</td>\n",
       "      <td>51.937448</td>\n",
       "      <td>...</td>\n",
       "      <td>0.0</td>\n",
       "      <td>0.0</td>\n",
       "      <td>0.0</td>\n",
       "      <td>37.6046</td>\n",
       "      <td>127.032</td>\n",
       "      <td>44.7624</td>\n",
       "      <td>0.5141</td>\n",
       "      <td>5869.312500</td>\n",
       "      <td>30.5</td>\n",
       "      <td>22.5</td>\n",
       "    </tr>\n",
       "    <tr>\n",
       "      <th>2</th>\n",
       "      <td>3.0</td>\n",
       "      <td>30-06-2013</td>\n",
       "      <td>31.6</td>\n",
       "      <td>23.3</td>\n",
       "      <td>48.690479</td>\n",
       "      <td>83.973587</td>\n",
       "      <td>30.091292</td>\n",
       "      <td>24.565633</td>\n",
       "      <td>6.138224</td>\n",
       "      <td>20.573050</td>\n",
       "      <td>...</td>\n",
       "      <td>0.0</td>\n",
       "      <td>0.0</td>\n",
       "      <td>0.0</td>\n",
       "      <td>37.5776</td>\n",
       "      <td>127.058</td>\n",
       "      <td>33.3068</td>\n",
       "      <td>0.2661</td>\n",
       "      <td>5863.555664</td>\n",
       "      <td>31.1</td>\n",
       "      <td>23.9</td>\n",
       "    </tr>\n",
       "    <tr>\n",
       "      <th>3</th>\n",
       "      <td>4.0</td>\n",
       "      <td>30-06-2013</td>\n",
       "      <td>32.0</td>\n",
       "      <td>23.4</td>\n",
       "      <td>58.239788</td>\n",
       "      <td>96.483688</td>\n",
       "      <td>29.704629</td>\n",
       "      <td>23.326177</td>\n",
       "      <td>5.650050</td>\n",
       "      <td>65.727144</td>\n",
       "      <td>...</td>\n",
       "      <td>0.0</td>\n",
       "      <td>0.0</td>\n",
       "      <td>0.0</td>\n",
       "      <td>37.6450</td>\n",
       "      <td>127.022</td>\n",
       "      <td>45.7160</td>\n",
       "      <td>2.5348</td>\n",
       "      <td>5856.964844</td>\n",
       "      <td>31.7</td>\n",
       "      <td>24.3</td>\n",
       "    </tr>\n",
       "    <tr>\n",
       "      <th>4</th>\n",
       "      <td>5.0</td>\n",
       "      <td>30-06-2013</td>\n",
       "      <td>31.4</td>\n",
       "      <td>21.9</td>\n",
       "      <td>56.174095</td>\n",
       "      <td>90.155128</td>\n",
       "      <td>29.113934</td>\n",
       "      <td>23.486480</td>\n",
       "      <td>5.735004</td>\n",
       "      <td>107.965535</td>\n",
       "      <td>...</td>\n",
       "      <td>0.0</td>\n",
       "      <td>0.0</td>\n",
       "      <td>0.0</td>\n",
       "      <td>37.5507</td>\n",
       "      <td>127.135</td>\n",
       "      <td>35.0380</td>\n",
       "      <td>0.5055</td>\n",
       "      <td>5859.552246</td>\n",
       "      <td>31.2</td>\n",
       "      <td>22.5</td>\n",
       "    </tr>\n",
       "  </tbody>\n",
       "</table>\n",
       "<p>5 rows × 25 columns</p>\n",
       "</div>"
      ],
      "text/plain": [
       "   station        Date  Present_Tmax  Present_Tmin  LDAPS_RHmin  LDAPS_RHmax  \\\n",
       "0      1.0  30-06-2013          28.7          21.4    58.255688    91.116364   \n",
       "1      2.0  30-06-2013          31.9          21.6    52.263397    90.604721   \n",
       "2      3.0  30-06-2013          31.6          23.3    48.690479    83.973587   \n",
       "3      4.0  30-06-2013          32.0          23.4    58.239788    96.483688   \n",
       "4      5.0  30-06-2013          31.4          21.9    56.174095    90.155128   \n",
       "\n",
       "   LDAPS_Tmax_lapse  LDAPS_Tmin_lapse  LDAPS_WS    LDAPS_LH  ...  LDAPS_PPT2  \\\n",
       "0         28.074101         23.006936  6.818887   69.451805  ...         0.0   \n",
       "1         29.850689         24.035009  5.691890   51.937448  ...         0.0   \n",
       "2         30.091292         24.565633  6.138224   20.573050  ...         0.0   \n",
       "3         29.704629         23.326177  5.650050   65.727144  ...         0.0   \n",
       "4         29.113934         23.486480  5.735004  107.965535  ...         0.0   \n",
       "\n",
       "   LDAPS_PPT3  LDAPS_PPT4      lat      lon       DEM   Slope  \\\n",
       "0         0.0         0.0  37.6046  126.991  212.3350  2.7850   \n",
       "1         0.0         0.0  37.6046  127.032   44.7624  0.5141   \n",
       "2         0.0         0.0  37.5776  127.058   33.3068  0.2661   \n",
       "3         0.0         0.0  37.6450  127.022   45.7160  2.5348   \n",
       "4         0.0         0.0  37.5507  127.135   35.0380  0.5055   \n",
       "\n",
       "   Solar radiation  Next_Tmax  Next_Tmin  \n",
       "0      5992.895996       29.1       21.2  \n",
       "1      5869.312500       30.5       22.5  \n",
       "2      5863.555664       31.1       23.9  \n",
       "3      5856.964844       31.7       24.3  \n",
       "4      5859.552246       31.2       22.5  \n",
       "\n",
       "[5 rows x 25 columns]"
      ]
     },
     "execution_count": 2,
     "metadata": {},
     "output_type": "execute_result"
    }
   ],
   "source": [
    "temp = pd.read_csv(\"https://raw.githubusercontent.com/dsrscientist/Dataset2/main/temperature.csv\")\n",
    "temp.head()"
   ]
  },
  {
   "cell_type": "code",
   "execution_count": 3,
   "id": "f093262b",
   "metadata": {},
   "outputs": [
    {
     "data": {
      "text/plain": [
       "(7752, 25)"
      ]
     },
     "execution_count": 3,
     "metadata": {},
     "output_type": "execute_result"
    }
   ],
   "source": [
    "temp.shape"
   ]
  },
  {
   "cell_type": "markdown",
   "id": "92ca4bcd",
   "metadata": {},
   "source": [
    "there are 7752 rows & 25 columns are present in the data set"
   ]
  },
  {
   "cell_type": "code",
   "execution_count": 4,
   "id": "53947ada",
   "metadata": {},
   "outputs": [
    {
     "data": {
      "text/plain": [
       "station             float64\n",
       "Date                 object\n",
       "Present_Tmax        float64\n",
       "Present_Tmin        float64\n",
       "LDAPS_RHmin         float64\n",
       "LDAPS_RHmax         float64\n",
       "LDAPS_Tmax_lapse    float64\n",
       "LDAPS_Tmin_lapse    float64\n",
       "LDAPS_WS            float64\n",
       "LDAPS_LH            float64\n",
       "LDAPS_CC1           float64\n",
       "LDAPS_CC2           float64\n",
       "LDAPS_CC3           float64\n",
       "LDAPS_CC4           float64\n",
       "LDAPS_PPT1          float64\n",
       "LDAPS_PPT2          float64\n",
       "LDAPS_PPT3          float64\n",
       "LDAPS_PPT4          float64\n",
       "lat                 float64\n",
       "lon                 float64\n",
       "DEM                 float64\n",
       "Slope               float64\n",
       "Solar radiation     float64\n",
       "Next_Tmax           float64\n",
       "Next_Tmin           float64\n",
       "dtype: object"
      ]
     },
     "execution_count": 4,
     "metadata": {},
     "output_type": "execute_result"
    }
   ],
   "source": [
    "temp.dtypes"
   ]
  },
  {
   "cell_type": "markdown",
   "id": "c0735bc6",
   "metadata": {},
   "source": [
    "So except Date column all columns are float data types"
   ]
  },
  {
   "cell_type": "code",
   "execution_count": 5,
   "id": "c673934a",
   "metadata": {},
   "outputs": [
    {
     "data": {
      "text/plain": [
       "Index(['station', 'Date', 'Present_Tmax', 'Present_Tmin', 'LDAPS_RHmin',\n",
       "       'LDAPS_RHmax', 'LDAPS_Tmax_lapse', 'LDAPS_Tmin_lapse', 'LDAPS_WS',\n",
       "       'LDAPS_LH', 'LDAPS_CC1', 'LDAPS_CC2', 'LDAPS_CC3', 'LDAPS_CC4',\n",
       "       'LDAPS_PPT1', 'LDAPS_PPT2', 'LDAPS_PPT3', 'LDAPS_PPT4', 'lat', 'lon',\n",
       "       'DEM', 'Slope', 'Solar radiation', 'Next_Tmax', 'Next_Tmin'],\n",
       "      dtype='object')"
      ]
     },
     "execution_count": 5,
     "metadata": {},
     "output_type": "execute_result"
    }
   ],
   "source": [
    "temp.columns"
   ]
  },
  {
   "cell_type": "markdown",
   "id": "a97afe87",
   "metadata": {},
   "source": [
    "There are 25 columns are present in the data set"
   ]
  },
  {
   "cell_type": "code",
   "execution_count": 6,
   "id": "53b71a99",
   "metadata": {},
   "outputs": [
    {
     "name": "stdout",
     "output_type": "stream",
     "text": [
      "<class 'pandas.core.frame.DataFrame'>\n",
      "RangeIndex: 7752 entries, 0 to 7751\n",
      "Data columns (total 25 columns):\n",
      " #   Column            Non-Null Count  Dtype  \n",
      "---  ------            --------------  -----  \n",
      " 0   station           7750 non-null   float64\n",
      " 1   Date              7750 non-null   object \n",
      " 2   Present_Tmax      7682 non-null   float64\n",
      " 3   Present_Tmin      7682 non-null   float64\n",
      " 4   LDAPS_RHmin       7677 non-null   float64\n",
      " 5   LDAPS_RHmax       7677 non-null   float64\n",
      " 6   LDAPS_Tmax_lapse  7677 non-null   float64\n",
      " 7   LDAPS_Tmin_lapse  7677 non-null   float64\n",
      " 8   LDAPS_WS          7677 non-null   float64\n",
      " 9   LDAPS_LH          7677 non-null   float64\n",
      " 10  LDAPS_CC1         7677 non-null   float64\n",
      " 11  LDAPS_CC2         7677 non-null   float64\n",
      " 12  LDAPS_CC3         7677 non-null   float64\n",
      " 13  LDAPS_CC4         7677 non-null   float64\n",
      " 14  LDAPS_PPT1        7677 non-null   float64\n",
      " 15  LDAPS_PPT2        7677 non-null   float64\n",
      " 16  LDAPS_PPT3        7677 non-null   float64\n",
      " 17  LDAPS_PPT4        7677 non-null   float64\n",
      " 18  lat               7752 non-null   float64\n",
      " 19  lon               7752 non-null   float64\n",
      " 20  DEM               7752 non-null   float64\n",
      " 21  Slope             7752 non-null   float64\n",
      " 22  Solar radiation   7752 non-null   float64\n",
      " 23  Next_Tmax         7725 non-null   float64\n",
      " 24  Next_Tmin         7725 non-null   float64\n",
      "dtypes: float64(24), object(1)\n",
      "memory usage: 1.5+ MB\n"
     ]
    }
   ],
   "source": [
    "temp.info()"
   ]
  },
  {
   "cell_type": "markdown",
   "id": "ccd2a345",
   "metadata": {},
   "source": [
    "So there are some missing data is present."
   ]
  },
  {
   "cell_type": "code",
   "execution_count": 7,
   "id": "93214198",
   "metadata": {},
   "outputs": [
    {
     "data": {
      "text/plain": [
       "station              2\n",
       "Date                 2\n",
       "Present_Tmax        70\n",
       "Present_Tmin        70\n",
       "LDAPS_RHmin         75\n",
       "LDAPS_RHmax         75\n",
       "LDAPS_Tmax_lapse    75\n",
       "LDAPS_Tmin_lapse    75\n",
       "LDAPS_WS            75\n",
       "LDAPS_LH            75\n",
       "LDAPS_CC1           75\n",
       "LDAPS_CC2           75\n",
       "LDAPS_CC3           75\n",
       "LDAPS_CC4           75\n",
       "LDAPS_PPT1          75\n",
       "LDAPS_PPT2          75\n",
       "LDAPS_PPT3          75\n",
       "LDAPS_PPT4          75\n",
       "lat                  0\n",
       "lon                  0\n",
       "DEM                  0\n",
       "Slope                0\n",
       "Solar radiation      0\n",
       "Next_Tmax           27\n",
       "Next_Tmin           27\n",
       "dtype: int64"
      ]
     },
     "execution_count": 7,
     "metadata": {},
     "output_type": "execute_result"
    }
   ],
   "source": [
    "temp.isnull().sum()"
   ]
  },
  {
   "cell_type": "markdown",
   "id": "95c318f0",
   "metadata": {},
   "source": [
    "lets check through heatmap"
   ]
  },
  {
   "cell_type": "code",
   "execution_count": 8,
   "id": "c0cf5207",
   "metadata": {},
   "outputs": [
    {
     "data": {
      "image/png": "[encoded data removed]",
      "text/plain": [
       "<Figure size 432x288 with 2 Axes>"
      ]
     },
     "metadata": {
      "needs_background": "light"
     },
     "output_type": "display_data"
    }
   ],
   "source": [
    "sns.heatmap(temp.isnull())\n",
    "plt.show()"
   ]
  },
  {
   "cell_type": "code",
   "execution_count": 9,
   "id": "6445470e",
   "metadata": {},
   "outputs": [
    {
     "data": {
      "text/plain": [
       "<bound method IndexOpsMixin.value_counts of 0        1.0\n",
       "1        2.0\n",
       "2        3.0\n",
       "3        4.0\n",
       "4        5.0\n",
       "        ... \n",
       "7747    23.0\n",
       "7748    24.0\n",
       "7749    25.0\n",
       "7750     NaN\n",
       "7751     NaN\n",
       "Name: station, Length: 7752, dtype: float64>"
      ]
     },
     "execution_count": 9,
     "metadata": {},
     "output_type": "execute_result"
    }
   ],
   "source": [
    "temp[\"station\"].value_counts"
   ]
  },
  {
   "cell_type": "code",
   "execution_count": 10,
   "id": "b12b129e",
   "metadata": {},
   "outputs": [
    {
     "data": {
      "text/plain": [
       "station               13.000000\n",
       "Present_Tmax          29.768211\n",
       "Present_Tmin          23.225059\n",
       "LDAPS_RHmin           56.759372\n",
       "LDAPS_RHmax           88.374804\n",
       "LDAPS_Tmax_lapse      29.613447\n",
       "LDAPS_Tmin_lapse      23.512589\n",
       "LDAPS_WS               7.097875\n",
       "LDAPS_LH              62.505019\n",
       "LDAPS_CC1              0.368774\n",
       "LDAPS_CC2              0.356080\n",
       "LDAPS_CC3              0.318404\n",
       "LDAPS_CC4              0.299191\n",
       "LDAPS_PPT1             0.591995\n",
       "LDAPS_PPT2             0.485003\n",
       "LDAPS_PPT3             0.278200\n",
       "LDAPS_PPT4             0.269407\n",
       "lat                   37.544722\n",
       "lon                  126.991397\n",
       "DEM                   61.867972\n",
       "Slope                  1.257048\n",
       "Solar radiation     5341.502803\n",
       "Next_Tmax             30.274887\n",
       "Next_Tmin             22.932220\n",
       "dtype: float64"
      ]
     },
     "execution_count": 10,
     "metadata": {},
     "output_type": "execute_result"
    }
   ],
   "source": [
    "temp.mean()"
   ]
  },
  {
   "cell_type": "markdown",
   "id": "c5a14a6b",
   "metadata": {},
   "source": [
    "There are huge amount of data is missing in some columns"
   ]
  },
  {
   "cell_type": "markdown",
   "id": "69f91147",
   "metadata": {},
   "source": [
    "# Handling Missing Values"
   ]
  },
  {
   "cell_type": "markdown",
   "id": "69130595",
   "metadata": {},
   "source": [
    "# All the Null values columns are replacing with mean values "
   ]
  },
  {
   "cell_type": "code",
   "execution_count": 11,
   "id": "7b9029b5",
   "metadata": {},
   "outputs": [],
   "source": [
    "temp[\"station\"]=temp[\"station\"].fillna(temp[\"station\"].mean())\n",
    "temp[\"Present_Tmax\"]=temp[\"Present_Tmax\"].fillna(temp[\"Present_Tmax\"].mean())\n",
    "temp[\"Present_Tmin\"]=temp[\"Present_Tmin\"].fillna(temp[\"Present_Tmin\"].mean())\n",
    "temp[\"LDAPS_RHmin\"]=temp[\"LDAPS_RHmin\"].fillna(temp[\"LDAPS_RHmin\"].mean())\n",
    "temp[\"LDAPS_RHmax\"]=temp[\"LDAPS_RHmax\"].fillna(temp[\"LDAPS_RHmax\"].mean())\n",
    "temp[\"LDAPS_Tmax_lapse\"]=temp[\"LDAPS_Tmax_lapse\"].fillna(temp[\"LDAPS_Tmax_lapse\"].mean())\n",
    "temp[\"LDAPS_Tmin_lapse\"]=temp[\"LDAPS_Tmin_lapse\"].fillna(temp[\"LDAPS_Tmin_lapse\"].mean())\n",
    "temp[\"LDAPS_WS\"]=temp[\"LDAPS_WS\"].fillna(temp[\"LDAPS_WS\"].mean())\n",
    "temp[\"LDAPS_LH\"]=temp[\"LDAPS_LH\"].fillna(temp[\"LDAPS_LH\"].mean())\n",
    "temp[\"LDAPS_CC1\"]=temp[\"LDAPS_CC1\"].fillna(temp[\"LDAPS_CC1\"].mean())\n",
    "temp[\"LDAPS_CC2\"]=temp[\"LDAPS_CC2\"].fillna(temp[\"LDAPS_CC2\"].mean())\n",
    "temp[\"LDAPS_CC3\"]=temp[\"LDAPS_CC3\"].fillna(temp[\"LDAPS_CC3\"].mean())\n",
    "temp[\"LDAPS_CC4\"]=temp[\"LDAPS_CC4\"].fillna(temp[\"LDAPS_CC4\"].mean())\n",
    "temp[\"LDAPS_PPT1\"]=temp[\"LDAPS_PPT1\"].fillna(temp[\"LDAPS_PPT1\"].mean())\n",
    "temp[\"LDAPS_PPT2\"]=temp[\"LDAPS_PPT2\"].fillna(temp[\"LDAPS_PPT2\"].mean())\n",
    "temp[\"LDAPS_PPT3\"]=temp[\"LDAPS_PPT3\"].fillna(temp[\"LDAPS_PPT3\"].mean())\n",
    "temp[\"LDAPS_PPT4\"]=temp[\"LDAPS_PPT4\"].fillna(temp[\"LDAPS_PPT4\"].mean())\n",
    "temp[\"Next_Tmax\"]=temp[\"Next_Tmax\"].fillna(temp[\"Next_Tmax\"].mean())\n",
    "temp[\"Next_Tmin\"]=temp[\"Next_Tmin\"].fillna(temp[\"Next_Tmin\"].mean())"
   ]
  },
  {
   "cell_type": "code",
   "execution_count": 12,
   "id": "357d4ada",
   "metadata": {},
   "outputs": [
    {
     "data": {
      "text/plain": [
       "station             0\n",
       "Date                2\n",
       "Present_Tmax        0\n",
       "Present_Tmin        0\n",
       "LDAPS_RHmin         0\n",
       "LDAPS_RHmax         0\n",
       "LDAPS_Tmax_lapse    0\n",
       "LDAPS_Tmin_lapse    0\n",
       "LDAPS_WS            0\n",
       "LDAPS_LH            0\n",
       "LDAPS_CC1           0\n",
       "LDAPS_CC2           0\n",
       "LDAPS_CC3           0\n",
       "LDAPS_CC4           0\n",
       "LDAPS_PPT1          0\n",
       "LDAPS_PPT2          0\n",
       "LDAPS_PPT3          0\n",
       "LDAPS_PPT4          0\n",
       "lat                 0\n",
       "lon                 0\n",
       "DEM                 0\n",
       "Slope               0\n",
       "Solar radiation     0\n",
       "Next_Tmax           0\n",
       "Next_Tmin           0\n",
       "dtype: int64"
      ]
     },
     "execution_count": 12,
     "metadata": {},
     "output_type": "execute_result"
    }
   ],
   "source": [
    "temp.isnull().sum()"
   ]
  },
  {
   "cell_type": "markdown",
   "id": "66c80ed0",
   "metadata": {},
   "source": [
    "here there is no use of date column so dropping it from the data set"
   ]
  },
  {
   "cell_type": "code",
   "execution_count": 34,
   "id": "96fe0f89",
   "metadata": {},
   "outputs": [],
   "source": [
    "temp.drop([\"Date\"],axis=1,inplace=True)"
   ]
  },
  {
   "cell_type": "code",
   "execution_count": 35,
   "id": "11202c42",
   "metadata": {},
   "outputs": [
    {
     "data": {
      "text/plain": [
       "<AxesSubplot:>"
      ]
     },
     "execution_count": 35,
     "metadata": {},
     "output_type": "execute_result"
    },
    {
     "data": {
      "image/png": "[encoded data removed]",
      "text/plain": [
       "<Figure size 432x288 with 2 Axes>"
      ]
     },
     "metadata": {
      "needs_background": "light"
     },
     "output_type": "display_data"
    }
   ],
   "source": [
    "sns.heatmap(temp.isnull())"
   ]
  },
  {
   "cell_type": "code",
   "execution_count": 36,
   "id": "a541e635",
   "metadata": {},
   "outputs": [
    {
     "data": {
      "text/plain": [
       "station             0\n",
       "Present_Tmax        0\n",
       "Present_Tmin        0\n",
       "LDAPS_RHmin         0\n",
       "LDAPS_RHmax         0\n",
       "LDAPS_Tmax_lapse    0\n",
       "LDAPS_Tmin_lapse    0\n",
       "LDAPS_WS            0\n",
       "LDAPS_LH            0\n",
       "LDAPS_CC1           0\n",
       "LDAPS_CC2           0\n",
       "LDAPS_CC3           0\n",
       "LDAPS_CC4           0\n",
       "LDAPS_PPT1          0\n",
       "LDAPS_PPT2          0\n",
       "LDAPS_PPT3          0\n",
       "LDAPS_PPT4          0\n",
       "lat                 0\n",
       "lon                 0\n",
       "DEM                 0\n",
       "Slope               0\n",
       "Solar radiation     0\n",
       "Next_Tmax           0\n",
       "Next_Tmin           0\n",
       "dtype: int64"
      ]
     },
     "execution_count": 36,
     "metadata": {},
     "output_type": "execute_result"
    }
   ],
   "source": [
    "temp.isnull().sum()"
   ]
  },
  {
   "cell_type": "markdown",
   "id": "ca0f9386",
   "metadata": {},
   "source": [
    "Removed all Null data in the data set"
   ]
  },
  {
   "cell_type": "markdown",
   "id": "33a1ba4d",
   "metadata": {},
   "source": [
    "# STATSTICS DATA"
   ]
  },
  {
   "cell_type": "code",
   "execution_count": 37,
   "id": "ba8db35c",
   "metadata": {},
   "outputs": [
    {
     "data": {
      "text/html": [
       "<div>\n",
       "<style scoped>\n",
       "    .dataframe tbody tr th:only-of-type {\n",
       "        vertical-align: middle;\n",
       "    }\n",
       "\n",
       "    .dataframe tbody tr th {\n",
       "        vertical-align: top;\n",
       "    }\n",
       "\n",
       "    .dataframe thead th {\n",
       "        text-align: right;\n",
       "    }\n",
       "</style>\n",
       "<table border=\"1\" class=\"dataframe\">\n",
       "  <thead>\n",
       "    <tr style=\"text-align: right;\">\n",
       "      <th></th>\n",
       "      <th>station</th>\n",
       "      <th>Present_Tmax</th>\n",
       "      <th>Present_Tmin</th>\n",
       "      <th>LDAPS_RHmin</th>\n",
       "      <th>LDAPS_RHmax</th>\n",
       "      <th>LDAPS_Tmax_lapse</th>\n",
       "      <th>LDAPS_Tmin_lapse</th>\n",
       "      <th>LDAPS_WS</th>\n",
       "      <th>LDAPS_LH</th>\n",
       "      <th>LDAPS_CC1</th>\n",
       "      <th>...</th>\n",
       "      <th>LDAPS_PPT2</th>\n",
       "      <th>LDAPS_PPT3</th>\n",
       "      <th>LDAPS_PPT4</th>\n",
       "      <th>lat</th>\n",
       "      <th>lon</th>\n",
       "      <th>DEM</th>\n",
       "      <th>Slope</th>\n",
       "      <th>Solar radiation</th>\n",
       "      <th>Next_Tmax</th>\n",
       "      <th>Next_Tmin</th>\n",
       "    </tr>\n",
       "  </thead>\n",
       "  <tbody>\n",
       "    <tr>\n",
       "      <th>count</th>\n",
       "      <td>7752.000000</td>\n",
       "      <td>7752.000000</td>\n",
       "      <td>7752.000000</td>\n",
       "      <td>7752.000000</td>\n",
       "      <td>7752.000000</td>\n",
       "      <td>7752.000000</td>\n",
       "      <td>7752.000000</td>\n",
       "      <td>7752.000000</td>\n",
       "      <td>7752.000000</td>\n",
       "      <td>7752.000000</td>\n",
       "      <td>...</td>\n",
       "      <td>7752.000000</td>\n",
       "      <td>7752.000000</td>\n",
       "      <td>7752.000000</td>\n",
       "      <td>7752.000000</td>\n",
       "      <td>7752.000000</td>\n",
       "      <td>7752.000000</td>\n",
       "      <td>7752.000000</td>\n",
       "      <td>7752.000000</td>\n",
       "      <td>7752.000000</td>\n",
       "      <td>7752.000000</td>\n",
       "    </tr>\n",
       "    <tr>\n",
       "      <th>mean</th>\n",
       "      <td>13.000000</td>\n",
       "      <td>29.768211</td>\n",
       "      <td>23.225059</td>\n",
       "      <td>56.759372</td>\n",
       "      <td>88.374804</td>\n",
       "      <td>29.613447</td>\n",
       "      <td>23.512589</td>\n",
       "      <td>7.097875</td>\n",
       "      <td>62.505019</td>\n",
       "      <td>0.368774</td>\n",
       "      <td>...</td>\n",
       "      <td>0.485003</td>\n",
       "      <td>0.278200</td>\n",
       "      <td>0.269407</td>\n",
       "      <td>37.544722</td>\n",
       "      <td>126.991397</td>\n",
       "      <td>61.867972</td>\n",
       "      <td>1.257048</td>\n",
       "      <td>5341.502803</td>\n",
       "      <td>30.274887</td>\n",
       "      <td>22.932220</td>\n",
       "    </tr>\n",
       "    <tr>\n",
       "      <th>std</th>\n",
       "      <td>7.210637</td>\n",
       "      <td>2.956557</td>\n",
       "      <td>2.403036</td>\n",
       "      <td>14.596973</td>\n",
       "      <td>7.157124</td>\n",
       "      <td>2.932898</td>\n",
       "      <td>2.333973</td>\n",
       "      <td>2.173245</td>\n",
       "      <td>33.567001</td>\n",
       "      <td>0.261185</td>\n",
       "      <td>...</td>\n",
       "      <td>1.754258</td>\n",
       "      <td>1.156174</td>\n",
       "      <td>1.200364</td>\n",
       "      <td>0.050352</td>\n",
       "      <td>0.079435</td>\n",
       "      <td>54.279780</td>\n",
       "      <td>1.370444</td>\n",
       "      <td>429.158867</td>\n",
       "      <td>3.122557</td>\n",
       "      <td>2.483276</td>\n",
       "    </tr>\n",
       "    <tr>\n",
       "      <th>min</th>\n",
       "      <td>1.000000</td>\n",
       "      <td>20.000000</td>\n",
       "      <td>11.300000</td>\n",
       "      <td>19.794666</td>\n",
       "      <td>58.936283</td>\n",
       "      <td>17.624954</td>\n",
       "      <td>14.272646</td>\n",
       "      <td>2.882580</td>\n",
       "      <td>-13.603212</td>\n",
       "      <td>0.000000</td>\n",
       "      <td>...</td>\n",
       "      <td>0.000000</td>\n",
       "      <td>0.000000</td>\n",
       "      <td>0.000000</td>\n",
       "      <td>37.456200</td>\n",
       "      <td>126.826000</td>\n",
       "      <td>12.370000</td>\n",
       "      <td>0.098475</td>\n",
       "      <td>4329.520508</td>\n",
       "      <td>17.400000</td>\n",
       "      <td>11.300000</td>\n",
       "    </tr>\n",
       "    <tr>\n",
       "      <th>25%</th>\n",
       "      <td>7.000000</td>\n",
       "      <td>27.800000</td>\n",
       "      <td>21.700000</td>\n",
       "      <td>46.046162</td>\n",
       "      <td>84.316923</td>\n",
       "      <td>27.693091</td>\n",
       "      <td>22.114651</td>\n",
       "      <td>5.686487</td>\n",
       "      <td>37.532764</td>\n",
       "      <td>0.148321</td>\n",
       "      <td>...</td>\n",
       "      <td>0.000000</td>\n",
       "      <td>0.000000</td>\n",
       "      <td>0.000000</td>\n",
       "      <td>37.510200</td>\n",
       "      <td>126.937000</td>\n",
       "      <td>28.700000</td>\n",
       "      <td>0.271300</td>\n",
       "      <td>4999.018555</td>\n",
       "      <td>28.200000</td>\n",
       "      <td>21.400000</td>\n",
       "    </tr>\n",
       "    <tr>\n",
       "      <th>50%</th>\n",
       "      <td>13.000000</td>\n",
       "      <td>29.900000</td>\n",
       "      <td>23.400000</td>\n",
       "      <td>55.313244</td>\n",
       "      <td>89.699505</td>\n",
       "      <td>29.662273</td>\n",
       "      <td>23.735942</td>\n",
       "      <td>6.563068</td>\n",
       "      <td>57.310630</td>\n",
       "      <td>0.320110</td>\n",
       "      <td>...</td>\n",
       "      <td>0.000000</td>\n",
       "      <td>0.000000</td>\n",
       "      <td>0.000000</td>\n",
       "      <td>37.550700</td>\n",
       "      <td>126.995000</td>\n",
       "      <td>45.716000</td>\n",
       "      <td>0.618000</td>\n",
       "      <td>5436.345215</td>\n",
       "      <td>30.500000</td>\n",
       "      <td>23.100000</td>\n",
       "    </tr>\n",
       "    <tr>\n",
       "      <th>75%</th>\n",
       "      <td>19.000000</td>\n",
       "      <td>32.000000</td>\n",
       "      <td>24.900000</td>\n",
       "      <td>67.038254</td>\n",
       "      <td>93.704500</td>\n",
       "      <td>31.683819</td>\n",
       "      <td>25.134000</td>\n",
       "      <td>8.007471</td>\n",
       "      <td>83.904586</td>\n",
       "      <td>0.571696</td>\n",
       "      <td>...</td>\n",
       "      <td>0.024276</td>\n",
       "      <td>0.009697</td>\n",
       "      <td>0.000693</td>\n",
       "      <td>37.577600</td>\n",
       "      <td>127.042000</td>\n",
       "      <td>59.832400</td>\n",
       "      <td>1.767800</td>\n",
       "      <td>5728.316406</td>\n",
       "      <td>32.600000</td>\n",
       "      <td>24.600000</td>\n",
       "    </tr>\n",
       "    <tr>\n",
       "      <th>max</th>\n",
       "      <td>25.000000</td>\n",
       "      <td>37.600000</td>\n",
       "      <td>29.900000</td>\n",
       "      <td>98.524734</td>\n",
       "      <td>100.000153</td>\n",
       "      <td>38.542255</td>\n",
       "      <td>29.619342</td>\n",
       "      <td>21.857621</td>\n",
       "      <td>213.414006</td>\n",
       "      <td>0.967277</td>\n",
       "      <td>...</td>\n",
       "      <td>21.621661</td>\n",
       "      <td>15.841235</td>\n",
       "      <td>16.655469</td>\n",
       "      <td>37.645000</td>\n",
       "      <td>127.135000</td>\n",
       "      <td>212.335000</td>\n",
       "      <td>5.178230</td>\n",
       "      <td>5992.895996</td>\n",
       "      <td>38.900000</td>\n",
       "      <td>29.800000</td>\n",
       "    </tr>\n",
       "  </tbody>\n",
       "</table>\n",
       "<p>8 rows × 24 columns</p>\n",
       "</div>"
      ],
      "text/plain": [
       "           station  Present_Tmax  Present_Tmin  LDAPS_RHmin  LDAPS_RHmax  \\\n",
       "count  7752.000000   7752.000000   7752.000000  7752.000000  7752.000000   \n",
       "mean     13.000000     29.768211     23.225059    56.759372    88.374804   \n",
       "std       7.210637      2.956557      2.403036    14.596973     7.157124   \n",
       "min       1.000000     20.000000     11.300000    19.794666    58.936283   \n",
       "25%       7.000000     27.800000     21.700000    46.046162    84.316923   \n",
       "50%      13.000000     29.900000     23.400000    55.313244    89.699505   \n",
       "75%      19.000000     32.000000     24.900000    67.038254    93.704500   \n",
       "max      25.000000     37.600000     29.900000    98.524734   100.000153   \n",
       "\n",
       "       LDAPS_Tmax_lapse  LDAPS_Tmin_lapse     LDAPS_WS     LDAPS_LH  \\\n",
       "count       7752.000000       7752.000000  7752.000000  7752.000000   \n",
       "mean          29.613447         23.512589     7.097875    62.505019   \n",
       "std            2.932898          2.333973     2.173245    33.567001   \n",
       "min           17.624954         14.272646     2.882580   -13.603212   \n",
       "25%           27.693091         22.114651     5.686487    37.532764   \n",
       "50%           29.662273         23.735942     6.563068    57.310630   \n",
       "75%           31.683819         25.134000     8.007471    83.904586   \n",
       "max           38.542255         29.619342    21.857621   213.414006   \n",
       "\n",
       "         LDAPS_CC1  ...   LDAPS_PPT2   LDAPS_PPT3   LDAPS_PPT4          lat  \\\n",
       "count  7752.000000  ...  7752.000000  7752.000000  7752.000000  7752.000000   \n",
       "mean      0.368774  ...     0.485003     0.278200     0.269407    37.544722   \n",
       "std       0.261185  ...     1.754258     1.156174     1.200364     0.050352   \n",
       "min       0.000000  ...     0.000000     0.000000     0.000000    37.456200   \n",
       "25%       0.148321  ...     0.000000     0.000000     0.000000    37.510200   \n",
       "50%       0.320110  ...     0.000000     0.000000     0.000000    37.550700   \n",
       "75%       0.571696  ...     0.024276     0.009697     0.000693    37.577600   \n",
       "max       0.967277  ...    21.621661    15.841235    16.655469    37.645000   \n",
       "\n",
       "               lon          DEM        Slope  Solar radiation    Next_Tmax  \\\n",
       "count  7752.000000  7752.000000  7752.000000      7752.000000  7752.000000   \n",
       "mean    126.991397    61.867972     1.257048      5341.502803    30.274887   \n",
       "std       0.079435    54.279780     1.370444       429.158867     3.122557   \n",
       "min     126.826000    12.370000     0.098475      4329.520508    17.400000   \n",
       "25%     126.937000    28.700000     0.271300      4999.018555    28.200000   \n",
       "50%     126.995000    45.716000     0.618000      5436.345215    30.500000   \n",
       "75%     127.042000    59.832400     1.767800      5728.316406    32.600000   \n",
       "max     127.135000   212.335000     5.178230      5992.895996    38.900000   \n",
       "\n",
       "         Next_Tmin  \n",
       "count  7752.000000  \n",
       "mean     22.932220  \n",
       "std       2.483276  \n",
       "min      11.300000  \n",
       "25%      21.400000  \n",
       "50%      23.100000  \n",
       "75%      24.600000  \n",
       "max      29.800000  \n",
       "\n",
       "[8 rows x 24 columns]"
      ]
     },
     "execution_count": 37,
     "metadata": {},
     "output_type": "execute_result"
    }
   ],
   "source": [
    "temp.describe()"
   ]
  },
  {
   "cell_type": "markdown",
   "id": "0f075023",
   "metadata": {},
   "source": [
    "\n",
    "1 The mean is more than median 50% percentile in some columns.\n",
    "\n",
    "2 There is a large difference in 75% percentile\n",
    "\n",
    "3 The 1 and 2 observation suggest that there are extreme outliers present in these three columns."
   ]
  },
  {
   "cell_type": "code",
   "execution_count": 72,
   "id": "73a63323",
   "metadata": {},
   "outputs": [
    {
     "data": {
      "text/html": [
       "<div>\n",
       "<style scoped>\n",
       "    .dataframe tbody tr th:only-of-type {\n",
       "        vertical-align: middle;\n",
       "    }\n",
       "\n",
       "    .dataframe tbody tr th {\n",
       "        vertical-align: top;\n",
       "    }\n",
       "\n",
       "    .dataframe thead th {\n",
       "        text-align: right;\n",
       "    }\n",
       "</style>\n",
       "<table border=\"1\" class=\"dataframe\">\n",
       "  <thead>\n",
       "    <tr style=\"text-align: right;\">\n",
       "      <th></th>\n",
       "      <th>station</th>\n",
       "      <th>LDAPS_RHmin</th>\n",
       "      <th>LDAPS_RHmax</th>\n",
       "      <th>LDAPS_Tmax_lapse</th>\n",
       "      <th>LDAPS_Tmin_lapse</th>\n",
       "      <th>LDAPS_WS</th>\n",
       "      <th>LDAPS_LH</th>\n",
       "      <th>LDAPS_CC1</th>\n",
       "      <th>LDAPS_CC2</th>\n",
       "      <th>LDAPS_CC3</th>\n",
       "      <th>...</th>\n",
       "      <th>LDAPS_PPT2</th>\n",
       "      <th>LDAPS_PPT3</th>\n",
       "      <th>LDAPS_PPT4</th>\n",
       "      <th>lat</th>\n",
       "      <th>lon</th>\n",
       "      <th>DEM</th>\n",
       "      <th>Slope</th>\n",
       "      <th>Solar radiation</th>\n",
       "      <th>Next_Tmax</th>\n",
       "      <th>Next_Tmin</th>\n",
       "    </tr>\n",
       "  </thead>\n",
       "  <tbody>\n",
       "    <tr>\n",
       "      <th>station</th>\n",
       "      <td>1.000000</td>\n",
       "      <td>-0.066733</td>\n",
       "      <td>-0.166984</td>\n",
       "      <td>0.069107</td>\n",
       "      <td>0.104758</td>\n",
       "      <td>0.005277</td>\n",
       "      <td>-0.133357</td>\n",
       "      <td>0.006919</td>\n",
       "      <td>0.003396</td>\n",
       "      <td>0.000694</td>\n",
       "      <td>...</td>\n",
       "      <td>-0.008250</td>\n",
       "      <td>-0.012461</td>\n",
       "      <td>-0.010401</td>\n",
       "      <td>-0.237502</td>\n",
       "      <td>-0.118704</td>\n",
       "      <td>-0.255830</td>\n",
       "      <td>-0.090061</td>\n",
       "      <td>-0.019001</td>\n",
       "      <td>0.107983</td>\n",
       "      <td>0.128293</td>\n",
       "    </tr>\n",
       "    <tr>\n",
       "      <th>LDAPS_RHmin</th>\n",
       "      <td>-0.066733</td>\n",
       "      <td>1.000000</td>\n",
       "      <td>0.579141</td>\n",
       "      <td>-0.564580</td>\n",
       "      <td>0.089476</td>\n",
       "      <td>0.294361</td>\n",
       "      <td>-0.070858</td>\n",
       "      <td>0.613818</td>\n",
       "      <td>0.745443</td>\n",
       "      <td>0.689679</td>\n",
       "      <td>...</td>\n",
       "      <td>0.390967</td>\n",
       "      <td>0.240642</td>\n",
       "      <td>0.168595</td>\n",
       "      <td>0.087099</td>\n",
       "      <td>-0.076237</td>\n",
       "      <td>0.102115</td>\n",
       "      <td>0.123744</td>\n",
       "      <td>0.244080</td>\n",
       "      <td>-0.437898</td>\n",
       "      <td>0.095019</td>\n",
       "    </tr>\n",
       "    <tr>\n",
       "      <th>LDAPS_RHmax</th>\n",
       "      <td>-0.166984</td>\n",
       "      <td>0.579141</td>\n",
       "      <td>1.000000</td>\n",
       "      <td>-0.373404</td>\n",
       "      <td>-0.114143</td>\n",
       "      <td>0.135333</td>\n",
       "      <td>0.238579</td>\n",
       "      <td>0.436652</td>\n",
       "      <td>0.391330</td>\n",
       "      <td>0.226957</td>\n",
       "      <td>...</td>\n",
       "      <td>0.229050</td>\n",
       "      <td>0.134607</td>\n",
       "      <td>0.117853</td>\n",
       "      <td>0.195798</td>\n",
       "      <td>0.025667</td>\n",
       "      <td>0.177168</td>\n",
       "      <td>0.219599</td>\n",
       "      <td>0.149261</td>\n",
       "      <td>-0.283738</td>\n",
       "      <td>-0.071997</td>\n",
       "    </tr>\n",
       "    <tr>\n",
       "      <th>LDAPS_Tmax_lapse</th>\n",
       "      <td>0.069107</td>\n",
       "      <td>-0.564580</td>\n",
       "      <td>-0.373404</td>\n",
       "      <td>1.000000</td>\n",
       "      <td>0.654021</td>\n",
       "      <td>-0.311996</td>\n",
       "      <td>0.048010</td>\n",
       "      <td>-0.438439</td>\n",
       "      <td>-0.523619</td>\n",
       "      <td>-0.541327</td>\n",
       "      <td>...</td>\n",
       "      <td>-0.242122</td>\n",
       "      <td>-0.188115</td>\n",
       "      <td>-0.160273</td>\n",
       "      <td>-0.042093</td>\n",
       "      <td>0.090666</td>\n",
       "      <td>-0.178895</td>\n",
       "      <td>-0.162332</td>\n",
       "      <td>0.047971</td>\n",
       "      <td>0.827189</td>\n",
       "      <td>0.586868</td>\n",
       "    </tr>\n",
       "    <tr>\n",
       "      <th>LDAPS_Tmin_lapse</th>\n",
       "      <td>0.104758</td>\n",
       "      <td>0.089476</td>\n",
       "      <td>-0.114143</td>\n",
       "      <td>0.654021</td>\n",
       "      <td>1.000000</td>\n",
       "      <td>-0.130035</td>\n",
       "      <td>-0.134761</td>\n",
       "      <td>0.010901</td>\n",
       "      <td>0.047727</td>\n",
       "      <td>-0.044018</td>\n",
       "      <td>...</td>\n",
       "      <td>0.000870</td>\n",
       "      <td>-0.088575</td>\n",
       "      <td>-0.094655</td>\n",
       "      <td>-0.096257</td>\n",
       "      <td>-0.026701</td>\n",
       "      <td>-0.195455</td>\n",
       "      <td>-0.185849</td>\n",
       "      <td>0.159975</td>\n",
       "      <td>0.586983</td>\n",
       "      <td>0.880176</td>\n",
       "    </tr>\n",
       "    <tr>\n",
       "      <th>LDAPS_WS</th>\n",
       "      <td>0.005277</td>\n",
       "      <td>0.294361</td>\n",
       "      <td>0.135333</td>\n",
       "      <td>-0.311996</td>\n",
       "      <td>-0.130035</td>\n",
       "      <td>1.000000</td>\n",
       "      <td>0.006711</td>\n",
       "      <td>0.289445</td>\n",
       "      <td>0.261090</td>\n",
       "      <td>0.242991</td>\n",
       "      <td>...</td>\n",
       "      <td>0.191886</td>\n",
       "      <td>0.161684</td>\n",
       "      <td>0.144085</td>\n",
       "      <td>0.036657</td>\n",
       "      <td>-0.059466</td>\n",
       "      <td>0.191053</td>\n",
       "      <td>0.171629</td>\n",
       "      <td>0.121759</td>\n",
       "      <td>-0.342729</td>\n",
       "      <td>-0.096576</td>\n",
       "    </tr>\n",
       "    <tr>\n",
       "      <th>LDAPS_LH</th>\n",
       "      <td>-0.133357</td>\n",
       "      <td>-0.070858</td>\n",
       "      <td>0.238579</td>\n",
       "      <td>0.048010</td>\n",
       "      <td>-0.134761</td>\n",
       "      <td>0.006711</td>\n",
       "      <td>1.000000</td>\n",
       "      <td>-0.147296</td>\n",
       "      <td>-0.264280</td>\n",
       "      <td>-0.245583</td>\n",
       "      <td>...</td>\n",
       "      <td>-0.077545</td>\n",
       "      <td>0.016102</td>\n",
       "      <td>0.019979</td>\n",
       "      <td>0.133221</td>\n",
       "      <td>0.025822</td>\n",
       "      <td>0.055133</td>\n",
       "      <td>0.086781</td>\n",
       "      <td>-0.047384</td>\n",
       "      <td>0.157616</td>\n",
       "      <td>-0.055440</td>\n",
       "    </tr>\n",
       "    <tr>\n",
       "      <th>LDAPS_CC1</th>\n",
       "      <td>0.006919</td>\n",
       "      <td>0.613818</td>\n",
       "      <td>0.436652</td>\n",
       "      <td>-0.438439</td>\n",
       "      <td>0.010901</td>\n",
       "      <td>0.289445</td>\n",
       "      <td>-0.147296</td>\n",
       "      <td>1.000000</td>\n",
       "      <td>0.779683</td>\n",
       "      <td>0.517493</td>\n",
       "      <td>...</td>\n",
       "      <td>0.389453</td>\n",
       "      <td>0.168742</td>\n",
       "      <td>0.091722</td>\n",
       "      <td>-0.008131</td>\n",
       "      <td>-0.006843</td>\n",
       "      <td>-0.014090</td>\n",
       "      <td>-0.020752</td>\n",
       "      <td>0.218309</td>\n",
       "      <td>-0.452541</td>\n",
       "      <td>-0.011028</td>\n",
       "    </tr>\n",
       "    <tr>\n",
       "      <th>LDAPS_CC2</th>\n",
       "      <td>0.003396</td>\n",
       "      <td>0.745443</td>\n",
       "      <td>0.391330</td>\n",
       "      <td>-0.523619</td>\n",
       "      <td>0.047727</td>\n",
       "      <td>0.261090</td>\n",
       "      <td>-0.264280</td>\n",
       "      <td>0.779683</td>\n",
       "      <td>1.000000</td>\n",
       "      <td>0.725813</td>\n",
       "      <td>...</td>\n",
       "      <td>0.478472</td>\n",
       "      <td>0.240134</td>\n",
       "      <td>0.159548</td>\n",
       "      <td>-0.001497</td>\n",
       "      <td>-0.003581</td>\n",
       "      <td>-0.012823</td>\n",
       "      <td>-0.018073</td>\n",
       "      <td>0.170403</td>\n",
       "      <td>-0.490756</td>\n",
       "      <td>0.031250</td>\n",
       "    </tr>\n",
       "    <tr>\n",
       "      <th>LDAPS_CC3</th>\n",
       "      <td>0.000694</td>\n",
       "      <td>0.689679</td>\n",
       "      <td>0.226957</td>\n",
       "      <td>-0.541327</td>\n",
       "      <td>-0.044018</td>\n",
       "      <td>0.242991</td>\n",
       "      <td>-0.245583</td>\n",
       "      <td>0.517493</td>\n",
       "      <td>0.725813</td>\n",
       "      <td>1.000000</td>\n",
       "      <td>...</td>\n",
       "      <td>0.337569</td>\n",
       "      <td>0.339800</td>\n",
       "      <td>0.302357</td>\n",
       "      <td>0.004108</td>\n",
       "      <td>0.016041</td>\n",
       "      <td>0.000697</td>\n",
       "      <td>-0.003338</td>\n",
       "      <td>0.119292</td>\n",
       "      <td>-0.514680</td>\n",
       "      <td>-0.054726</td>\n",
       "    </tr>\n",
       "    <tr>\n",
       "      <th>LDAPS_CC4</th>\n",
       "      <td>0.006126</td>\n",
       "      <td>0.514075</td>\n",
       "      <td>0.130619</td>\n",
       "      <td>-0.429539</td>\n",
       "      <td>-0.080335</td>\n",
       "      <td>0.220533</td>\n",
       "      <td>-0.172766</td>\n",
       "      <td>0.361046</td>\n",
       "      <td>0.527708</td>\n",
       "      <td>0.793711</td>\n",
       "      <td>...</td>\n",
       "      <td>0.288195</td>\n",
       "      <td>0.267494</td>\n",
       "      <td>0.376049</td>\n",
       "      <td>-0.009107</td>\n",
       "      <td>-0.002477</td>\n",
       "      <td>-0.007334</td>\n",
       "      <td>-0.014459</td>\n",
       "      <td>0.119983</td>\n",
       "      <td>-0.446319</td>\n",
       "      <td>-0.085093</td>\n",
       "    </tr>\n",
       "    <tr>\n",
       "      <th>LDAPS_PPT1</th>\n",
       "      <td>-0.002709</td>\n",
       "      <td>0.262665</td>\n",
       "      <td>0.268449</td>\n",
       "      <td>-0.111065</td>\n",
       "      <td>0.038056</td>\n",
       "      <td>0.152587</td>\n",
       "      <td>-0.012542</td>\n",
       "      <td>0.446328</td>\n",
       "      <td>0.305975</td>\n",
       "      <td>0.159280</td>\n",
       "      <td>...</td>\n",
       "      <td>0.383831</td>\n",
       "      <td>0.033004</td>\n",
       "      <td>0.024626</td>\n",
       "      <td>0.000565</td>\n",
       "      <td>-0.001225</td>\n",
       "      <td>0.011290</td>\n",
       "      <td>0.016310</td>\n",
       "      <td>0.088015</td>\n",
       "      <td>-0.118817</td>\n",
       "      <td>0.021323</td>\n",
       "    </tr>\n",
       "    <tr>\n",
       "      <th>LDAPS_PPT2</th>\n",
       "      <td>-0.008250</td>\n",
       "      <td>0.390967</td>\n",
       "      <td>0.229050</td>\n",
       "      <td>-0.242122</td>\n",
       "      <td>0.000870</td>\n",
       "      <td>0.191886</td>\n",
       "      <td>-0.077545</td>\n",
       "      <td>0.389453</td>\n",
       "      <td>0.478472</td>\n",
       "      <td>0.337569</td>\n",
       "      <td>...</td>\n",
       "      <td>1.000000</td>\n",
       "      <td>0.221172</td>\n",
       "      <td>0.139555</td>\n",
       "      <td>0.019564</td>\n",
       "      <td>0.018600</td>\n",
       "      <td>0.008357</td>\n",
       "      <td>0.010214</td>\n",
       "      <td>0.110182</td>\n",
       "      <td>-0.178383</td>\n",
       "      <td>-0.008058</td>\n",
       "    </tr>\n",
       "    <tr>\n",
       "      <th>LDAPS_PPT3</th>\n",
       "      <td>-0.012461</td>\n",
       "      <td>0.240642</td>\n",
       "      <td>0.134607</td>\n",
       "      <td>-0.188115</td>\n",
       "      <td>-0.088575</td>\n",
       "      <td>0.161684</td>\n",
       "      <td>0.016102</td>\n",
       "      <td>0.168742</td>\n",
       "      <td>0.240134</td>\n",
       "      <td>0.339800</td>\n",
       "      <td>...</td>\n",
       "      <td>0.221172</td>\n",
       "      <td>1.000000</td>\n",
       "      <td>0.309076</td>\n",
       "      <td>0.035110</td>\n",
       "      <td>0.021662</td>\n",
       "      <td>0.017186</td>\n",
       "      <td>0.025333</td>\n",
       "      <td>-0.054071</td>\n",
       "      <td>-0.194143</td>\n",
       "      <td>-0.062622</td>\n",
       "    </tr>\n",
       "    <tr>\n",
       "      <th>LDAPS_PPT4</th>\n",
       "      <td>-0.010401</td>\n",
       "      <td>0.168595</td>\n",
       "      <td>0.117853</td>\n",
       "      <td>-0.160273</td>\n",
       "      <td>-0.094655</td>\n",
       "      <td>0.144085</td>\n",
       "      <td>0.019979</td>\n",
       "      <td>0.091722</td>\n",
       "      <td>0.159548</td>\n",
       "      <td>0.302357</td>\n",
       "      <td>...</td>\n",
       "      <td>0.139555</td>\n",
       "      <td>0.309076</td>\n",
       "      <td>1.000000</td>\n",
       "      <td>0.013210</td>\n",
       "      <td>0.044746</td>\n",
       "      <td>-0.003622</td>\n",
       "      <td>0.000117</td>\n",
       "      <td>0.034958</td>\n",
       "      <td>-0.178718</td>\n",
       "      <td>-0.103682</td>\n",
       "    </tr>\n",
       "    <tr>\n",
       "      <th>lat</th>\n",
       "      <td>-0.237502</td>\n",
       "      <td>0.087099</td>\n",
       "      <td>0.195798</td>\n",
       "      <td>-0.042093</td>\n",
       "      <td>-0.096257</td>\n",
       "      <td>0.036657</td>\n",
       "      <td>0.133221</td>\n",
       "      <td>-0.008131</td>\n",
       "      <td>-0.001497</td>\n",
       "      <td>0.004108</td>\n",
       "      <td>...</td>\n",
       "      <td>0.019564</td>\n",
       "      <td>0.035110</td>\n",
       "      <td>0.013210</td>\n",
       "      <td>1.000000</td>\n",
       "      <td>0.289029</td>\n",
       "      <td>0.033165</td>\n",
       "      <td>0.074763</td>\n",
       "      <td>0.038513</td>\n",
       "      <td>-0.053510</td>\n",
       "      <td>-0.083533</td>\n",
       "    </tr>\n",
       "    <tr>\n",
       "      <th>lon</th>\n",
       "      <td>-0.118704</td>\n",
       "      <td>-0.076237</td>\n",
       "      <td>0.025667</td>\n",
       "      <td>0.090666</td>\n",
       "      <td>-0.026701</td>\n",
       "      <td>-0.059466</td>\n",
       "      <td>0.025822</td>\n",
       "      <td>-0.006843</td>\n",
       "      <td>-0.003581</td>\n",
       "      <td>0.016041</td>\n",
       "      <td>...</td>\n",
       "      <td>0.018600</td>\n",
       "      <td>0.021662</td>\n",
       "      <td>0.044746</td>\n",
       "      <td>0.289029</td>\n",
       "      <td>1.000000</td>\n",
       "      <td>0.007587</td>\n",
       "      <td>0.038070</td>\n",
       "      <td>0.002182</td>\n",
       "      <td>0.003052</td>\n",
       "      <td>-0.046603</td>\n",
       "    </tr>\n",
       "    <tr>\n",
       "      <th>DEM</th>\n",
       "      <td>-0.255830</td>\n",
       "      <td>0.102115</td>\n",
       "      <td>0.177168</td>\n",
       "      <td>-0.178895</td>\n",
       "      <td>-0.195455</td>\n",
       "      <td>0.191053</td>\n",
       "      <td>0.055133</td>\n",
       "      <td>-0.014090</td>\n",
       "      <td>-0.012823</td>\n",
       "      <td>0.000697</td>\n",
       "      <td>...</td>\n",
       "      <td>0.008357</td>\n",
       "      <td>0.017186</td>\n",
       "      <td>-0.003622</td>\n",
       "      <td>0.033165</td>\n",
       "      <td>0.007587</td>\n",
       "      <td>1.000000</td>\n",
       "      <td>0.783576</td>\n",
       "      <td>0.056224</td>\n",
       "      <td>-0.172538</td>\n",
       "      <td>-0.246906</td>\n",
       "    </tr>\n",
       "    <tr>\n",
       "      <th>Slope</th>\n",
       "      <td>-0.090061</td>\n",
       "      <td>0.123744</td>\n",
       "      <td>0.219599</td>\n",
       "      <td>-0.162332</td>\n",
       "      <td>-0.185849</td>\n",
       "      <td>0.171629</td>\n",
       "      <td>0.086781</td>\n",
       "      <td>-0.020752</td>\n",
       "      <td>-0.018073</td>\n",
       "      <td>-0.003338</td>\n",
       "      <td>...</td>\n",
       "      <td>0.010214</td>\n",
       "      <td>0.025333</td>\n",
       "      <td>0.000117</td>\n",
       "      <td>0.074763</td>\n",
       "      <td>0.038070</td>\n",
       "      <td>0.783576</td>\n",
       "      <td>1.000000</td>\n",
       "      <td>0.028199</td>\n",
       "      <td>-0.102725</td>\n",
       "      <td>-0.146882</td>\n",
       "    </tr>\n",
       "    <tr>\n",
       "      <th>Solar radiation</th>\n",
       "      <td>-0.019001</td>\n",
       "      <td>0.244080</td>\n",
       "      <td>0.149261</td>\n",
       "      <td>0.047971</td>\n",
       "      <td>0.159975</td>\n",
       "      <td>0.121759</td>\n",
       "      <td>-0.047384</td>\n",
       "      <td>0.218309</td>\n",
       "      <td>0.170403</td>\n",
       "      <td>0.119292</td>\n",
       "      <td>...</td>\n",
       "      <td>0.110182</td>\n",
       "      <td>-0.054071</td>\n",
       "      <td>0.034958</td>\n",
       "      <td>0.038513</td>\n",
       "      <td>0.002182</td>\n",
       "      <td>0.056224</td>\n",
       "      <td>0.028199</td>\n",
       "      <td>1.000000</td>\n",
       "      <td>0.008795</td>\n",
       "      <td>0.120212</td>\n",
       "    </tr>\n",
       "    <tr>\n",
       "      <th>Next_Tmax</th>\n",
       "      <td>0.107983</td>\n",
       "      <td>-0.437898</td>\n",
       "      <td>-0.283738</td>\n",
       "      <td>0.827189</td>\n",
       "      <td>0.586983</td>\n",
       "      <td>-0.342729</td>\n",
       "      <td>0.157616</td>\n",
       "      <td>-0.452541</td>\n",
       "      <td>-0.490756</td>\n",
       "      <td>-0.514680</td>\n",
       "      <td>...</td>\n",
       "      <td>-0.178383</td>\n",
       "      <td>-0.194143</td>\n",
       "      <td>-0.178718</td>\n",
       "      <td>-0.053510</td>\n",
       "      <td>0.003052</td>\n",
       "      <td>-0.172538</td>\n",
       "      <td>-0.102725</td>\n",
       "      <td>0.008795</td>\n",
       "      <td>1.000000</td>\n",
       "      <td>0.621427</td>\n",
       "    </tr>\n",
       "    <tr>\n",
       "      <th>Next_Tmin</th>\n",
       "      <td>0.128293</td>\n",
       "      <td>0.095019</td>\n",
       "      <td>-0.071997</td>\n",
       "      <td>0.586868</td>\n",
       "      <td>0.880176</td>\n",
       "      <td>-0.096576</td>\n",
       "      <td>-0.055440</td>\n",
       "      <td>-0.011028</td>\n",
       "      <td>0.031250</td>\n",
       "      <td>-0.054726</td>\n",
       "      <td>...</td>\n",
       "      <td>-0.008058</td>\n",
       "      <td>-0.062622</td>\n",
       "      <td>-0.103682</td>\n",
       "      <td>-0.083533</td>\n",
       "      <td>-0.046603</td>\n",
       "      <td>-0.246906</td>\n",
       "      <td>-0.146882</td>\n",
       "      <td>0.120212</td>\n",
       "      <td>0.621427</td>\n",
       "      <td>1.000000</td>\n",
       "    </tr>\n",
       "  </tbody>\n",
       "</table>\n",
       "<p>22 rows × 22 columns</p>\n",
       "</div>"
      ],
      "text/plain": [
       "                   station  LDAPS_RHmin  LDAPS_RHmax  LDAPS_Tmax_lapse  \\\n",
       "station           1.000000    -0.066733    -0.166984          0.069107   \n",
       "LDAPS_RHmin      -0.066733     1.000000     0.579141         -0.564580   \n",
       "LDAPS_RHmax      -0.166984     0.579141     1.000000         -0.373404   \n",
       "LDAPS_Tmax_lapse  0.069107    -0.564580    -0.373404          1.000000   \n",
       "LDAPS_Tmin_lapse  0.104758     0.089476    -0.114143          0.654021   \n",
       "LDAPS_WS          0.005277     0.294361     0.135333         -0.311996   \n",
       "LDAPS_LH         -0.133357    -0.070858     0.238579          0.048010   \n",
       "LDAPS_CC1         0.006919     0.613818     0.436652         -0.438439   \n",
       "LDAPS_CC2         0.003396     0.745443     0.391330         -0.523619   \n",
       "LDAPS_CC3         0.000694     0.689679     0.226957         -0.541327   \n",
       "LDAPS_CC4         0.006126     0.514075     0.130619         -0.429539   \n",
       "LDAPS_PPT1       -0.002709     0.262665     0.268449         -0.111065   \n",
       "LDAPS_PPT2       -0.008250     0.390967     0.229050         -0.242122   \n",
       "LDAPS_PPT3       -0.012461     0.240642     0.134607         -0.188115   \n",
       "LDAPS_PPT4       -0.010401     0.168595     0.117853         -0.160273   \n",
       "lat              -0.237502     0.087099     0.195798         -0.042093   \n",
       "lon              -0.118704    -0.076237     0.025667          0.090666   \n",
       "DEM              -0.255830     0.102115     0.177168         -0.178895   \n",
       "Slope            -0.090061     0.123744     0.219599         -0.162332   \n",
       "Solar radiation  -0.019001     0.244080     0.149261          0.047971   \n",
       "Next_Tmax         0.107983    -0.437898    -0.283738          0.827189   \n",
       "Next_Tmin         0.128293     0.095019    -0.071997          0.586868   \n",
       "\n",
       "                  LDAPS_Tmin_lapse  LDAPS_WS  LDAPS_LH  LDAPS_CC1  LDAPS_CC2  \\\n",
       "station                   0.104758  0.005277 -0.133357   0.006919   0.003396   \n",
       "LDAPS_RHmin               0.089476  0.294361 -0.070858   0.613818   0.745443   \n",
       "LDAPS_RHmax              -0.114143  0.135333  0.238579   0.436652   0.391330   \n",
       "LDAPS_Tmax_lapse          0.654021 -0.311996  0.048010  -0.438439  -0.523619   \n",
       "LDAPS_Tmin_lapse          1.000000 -0.130035 -0.134761   0.010901   0.047727   \n",
       "LDAPS_WS                 -0.130035  1.000000  0.006711   0.289445   0.261090   \n",
       "LDAPS_LH                 -0.134761  0.006711  1.000000  -0.147296  -0.264280   \n",
       "LDAPS_CC1                 0.010901  0.289445 -0.147296   1.000000   0.779683   \n",
       "LDAPS_CC2                 0.047727  0.261090 -0.264280   0.779683   1.000000   \n",
       "LDAPS_CC3                -0.044018  0.242991 -0.245583   0.517493   0.725813   \n",
       "LDAPS_CC4                -0.080335  0.220533 -0.172766   0.361046   0.527708   \n",
       "LDAPS_PPT1                0.038056  0.152587 -0.012542   0.446328   0.305975   \n",
       "LDAPS_PPT2                0.000870  0.191886 -0.077545   0.389453   0.478472   \n",
       "LDAPS_PPT3               -0.088575  0.161684  0.016102   0.168742   0.240134   \n",
       "LDAPS_PPT4               -0.094655  0.144085  0.019979   0.091722   0.159548   \n",
       "lat                      -0.096257  0.036657  0.133221  -0.008131  -0.001497   \n",
       "lon                      -0.026701 -0.059466  0.025822  -0.006843  -0.003581   \n",
       "DEM                      -0.195455  0.191053  0.055133  -0.014090  -0.012823   \n",
       "Slope                    -0.185849  0.171629  0.086781  -0.020752  -0.018073   \n",
       "Solar radiation           0.159975  0.121759 -0.047384   0.218309   0.170403   \n",
       "Next_Tmax                 0.586983 -0.342729  0.157616  -0.452541  -0.490756   \n",
       "Next_Tmin                 0.880176 -0.096576 -0.055440  -0.011028   0.031250   \n",
       "\n",
       "                  LDAPS_CC3  ...  LDAPS_PPT2  LDAPS_PPT3  LDAPS_PPT4  \\\n",
       "station            0.000694  ...   -0.008250   -0.012461   -0.010401   \n",
       "LDAPS_RHmin        0.689679  ...    0.390967    0.240642    0.168595   \n",
       "LDAPS_RHmax        0.226957  ...    0.229050    0.134607    0.117853   \n",
       "LDAPS_Tmax_lapse  -0.541327  ...   -0.242122   -0.188115   -0.160273   \n",
       "LDAPS_Tmin_lapse  -0.044018  ...    0.000870   -0.088575   -0.094655   \n",
       "LDAPS_WS           0.242991  ...    0.191886    0.161684    0.144085   \n",
       "LDAPS_LH          -0.245583  ...   -0.077545    0.016102    0.019979   \n",
       "LDAPS_CC1          0.517493  ...    0.389453    0.168742    0.091722   \n",
       "LDAPS_CC2          0.725813  ...    0.478472    0.240134    0.159548   \n",
       "LDAPS_CC3          1.000000  ...    0.337569    0.339800    0.302357   \n",
       "LDAPS_CC4          0.793711  ...    0.288195    0.267494    0.376049   \n",
       "LDAPS_PPT1         0.159280  ...    0.383831    0.033004    0.024626   \n",
       "LDAPS_PPT2         0.337569  ...    1.000000    0.221172    0.139555   \n",
       "LDAPS_PPT3         0.339800  ...    0.221172    1.000000    0.309076   \n",
       "LDAPS_PPT4         0.302357  ...    0.139555    0.309076    1.000000   \n",
       "lat                0.004108  ...    0.019564    0.035110    0.013210   \n",
       "lon                0.016041  ...    0.018600    0.021662    0.044746   \n",
       "DEM                0.000697  ...    0.008357    0.017186   -0.003622   \n",
       "Slope             -0.003338  ...    0.010214    0.025333    0.000117   \n",
       "Solar radiation    0.119292  ...    0.110182   -0.054071    0.034958   \n",
       "Next_Tmax         -0.514680  ...   -0.178383   -0.194143   -0.178718   \n",
       "Next_Tmin         -0.054726  ...   -0.008058   -0.062622   -0.103682   \n",
       "\n",
       "                       lat       lon       DEM     Slope  Solar radiation  \\\n",
       "station          -0.237502 -0.118704 -0.255830 -0.090061        -0.019001   \n",
       "LDAPS_RHmin       0.087099 -0.076237  0.102115  0.123744         0.244080   \n",
       "LDAPS_RHmax       0.195798  0.025667  0.177168  0.219599         0.149261   \n",
       "LDAPS_Tmax_lapse -0.042093  0.090666 -0.178895 -0.162332         0.047971   \n",
       "LDAPS_Tmin_lapse -0.096257 -0.026701 -0.195455 -0.185849         0.159975   \n",
       "LDAPS_WS          0.036657 -0.059466  0.191053  0.171629         0.121759   \n",
       "LDAPS_LH          0.133221  0.025822  0.055133  0.086781        -0.047384   \n",
       "LDAPS_CC1        -0.008131 -0.006843 -0.014090 -0.020752         0.218309   \n",
       "LDAPS_CC2        -0.001497 -0.003581 -0.012823 -0.018073         0.170403   \n",
       "LDAPS_CC3         0.004108  0.016041  0.000697 -0.003338         0.119292   \n",
       "LDAPS_CC4        -0.009107 -0.002477 -0.007334 -0.014459         0.119983   \n",
       "LDAPS_PPT1        0.000565 -0.001225  0.011290  0.016310         0.088015   \n",
       "LDAPS_PPT2        0.019564  0.018600  0.008357  0.010214         0.110182   \n",
       "LDAPS_PPT3        0.035110  0.021662  0.017186  0.025333        -0.054071   \n",
       "LDAPS_PPT4        0.013210  0.044746 -0.003622  0.000117         0.034958   \n",
       "lat               1.000000  0.289029  0.033165  0.074763         0.038513   \n",
       "lon               0.289029  1.000000  0.007587  0.038070         0.002182   \n",
       "DEM               0.033165  0.007587  1.000000  0.783576         0.056224   \n",
       "Slope             0.074763  0.038070  0.783576  1.000000         0.028199   \n",
       "Solar radiation   0.038513  0.002182  0.056224  0.028199         1.000000   \n",
       "Next_Tmax        -0.053510  0.003052 -0.172538 -0.102725         0.008795   \n",
       "Next_Tmin        -0.083533 -0.046603 -0.246906 -0.146882         0.120212   \n",
       "\n",
       "                  Next_Tmax  Next_Tmin  \n",
       "station            0.107983   0.128293  \n",
       "LDAPS_RHmin       -0.437898   0.095019  \n",
       "LDAPS_RHmax       -0.283738  -0.071997  \n",
       "LDAPS_Tmax_lapse   0.827189   0.586868  \n",
       "LDAPS_Tmin_lapse   0.586983   0.880176  \n",
       "LDAPS_WS          -0.342729  -0.096576  \n",
       "LDAPS_LH           0.157616  -0.055440  \n",
       "LDAPS_CC1         -0.452541  -0.011028  \n",
       "LDAPS_CC2         -0.490756   0.031250  \n",
       "LDAPS_CC3         -0.514680  -0.054726  \n",
       "LDAPS_CC4         -0.446319  -0.085093  \n",
       "LDAPS_PPT1        -0.118817   0.021323  \n",
       "LDAPS_PPT2        -0.178383  -0.008058  \n",
       "LDAPS_PPT3        -0.194143  -0.062622  \n",
       "LDAPS_PPT4        -0.178718  -0.103682  \n",
       "lat               -0.053510  -0.083533  \n",
       "lon                0.003052  -0.046603  \n",
       "DEM               -0.172538  -0.246906  \n",
       "Slope             -0.102725  -0.146882  \n",
       "Solar radiation    0.008795   0.120212  \n",
       "Next_Tmax          1.000000   0.621427  \n",
       "Next_Tmin          0.621427   1.000000  \n",
       "\n",
       "[22 rows x 22 columns]"
      ]
     },
     "execution_count": 72,
     "metadata": {},
     "output_type": "execute_result"
    }
   ],
   "source": [
    "temp.corr()"
   ]
  },
  {
   "cell_type": "code",
   "execution_count": 73,
   "id": "925e7b60",
   "metadata": {},
   "outputs": [
    {
     "data": {
      "text/plain": [
       "<AxesSubplot:>"
      ]
     },
     "execution_count": 73,
     "metadata": {},
     "output_type": "execute_result"
    },
    {
     "data": {
      "image/png": "[encoded data removed]",
      "text/plain": [
       "<Figure size 432x288 with 2 Axes>"
      ]
     },
     "metadata": {
      "needs_background": "light"
     },
     "output_type": "display_data"
    }
   ],
   "source": [
    "sns.heatmap(temp.corr())"
   ]
  },
  {
   "cell_type": "markdown",
   "id": "9f7d53c0",
   "metadata": {},
   "source": [
    "# DATA VISUALIZATION"
   ]
  },
  {
   "cell_type": "markdown",
   "id": "08f922b2",
   "metadata": {},
   "source": [
    "Checking Outliers for each columns"
   ]
  },
  {
   "cell_type": "code",
   "execution_count": 38,
   "id": "f7e4ea10",
   "metadata": {},
   "outputs": [
    {
     "data": {
      "text/plain": [
       "<AxesSubplot:>"
      ]
     },
     "execution_count": 38,
     "metadata": {},
     "output_type": "execute_result"
    },
    {
     "data": {
      "image/png": "[encoded data removed]",
      "text/plain": [
       "<Figure size 432x288 with 1 Axes>"
      ]
     },
     "metadata": {
      "needs_background": "light"
     },
     "output_type": "display_data"
    }
   ],
   "source": [
    "temp['station'].plot.box()"
   ]
  },
  {
   "cell_type": "markdown",
   "id": "400ca99b",
   "metadata": {},
   "source": [
    "In this column Outliers are very low so can't find Outliers easily"
   ]
  },
  {
   "cell_type": "code",
   "execution_count": 39,
   "id": "0d55a2f3",
   "metadata": {},
   "outputs": [
    {
     "data": {
      "text/plain": [
       "<AxesSubplot:>"
      ]
     },
     "execution_count": 39,
     "metadata": {},
     "output_type": "execute_result"
    },
    {
     "data": {
      "image/png": "[encoded data removed]",
      "text/plain": [
       "<Figure size 432x288 with 1 Axes>"
      ]
     },
     "metadata": {
      "needs_background": "light"
     },
     "output_type": "display_data"
    }
   ],
   "source": [
    "temp['Present_Tmax'].plot.box()"
   ]
  },
  {
   "cell_type": "markdown",
   "id": "9e3cd8f9",
   "metadata": {},
   "source": [
    "Here in this column we can find Outliers"
   ]
  },
  {
   "cell_type": "code",
   "execution_count": 40,
   "id": "0b5b5b62",
   "metadata": {},
   "outputs": [
    {
     "data": {
      "text/plain": [
       "<AxesSubplot:>"
      ]
     },
     "execution_count": 40,
     "metadata": {},
     "output_type": "execute_result"
    },
    {
     "data": {
      "image/png": "[encoded data removed]",
      "text/plain": [
       "<Figure size 432x288 with 1 Axes>"
      ]
     },
     "metadata": {
      "needs_background": "light"
     },
     "output_type": "display_data"
    }
   ],
   "source": [
    "temp['Present_Tmin'].plot.box()"
   ]
  },
  {
   "cell_type": "markdown",
   "id": "f35a54fc",
   "metadata": {},
   "source": [
    "Here in this column we can find Outliers"
   ]
  },
  {
   "cell_type": "code",
   "execution_count": 41,
   "id": "254a75dd",
   "metadata": {},
   "outputs": [
    {
     "data": {
      "text/plain": [
       "<AxesSubplot:>"
      ]
     },
     "execution_count": 41,
     "metadata": {},
     "output_type": "execute_result"
    },
    {
     "data": {
      "image/png": "[encoded data removed]",
      "text/plain": [
       "<Figure size 432x288 with 1 Axes>"
      ]
     },
     "metadata": {
      "needs_background": "light"
     },
     "output_type": "display_data"
    }
   ],
   "source": [
    "temp['LDAPS_RHmin'].plot.box()"
   ]
  },
  {
   "cell_type": "markdown",
   "id": "0a543d74",
   "metadata": {},
   "source": [
    "In this column Outliers are very low so can't find Outliers easily"
   ]
  },
  {
   "cell_type": "markdown",
   "id": "66a7ca66",
   "metadata": {},
   "source": [
    "temp['lat'].plot.box()"
   ]
  },
  {
   "cell_type": "code",
   "execution_count": 42,
   "id": "c3b93b6e",
   "metadata": {},
   "outputs": [
    {
     "data": {
      "text/plain": [
       "<AxesSubplot:>"
      ]
     },
     "execution_count": 42,
     "metadata": {},
     "output_type": "execute_result"
    },
    {
     "data": {
      "image/png": "[encoded data removed]",
      "text/plain": [
       "<Figure size 432x288 with 1 Axes>"
      ]
     },
     "metadata": {
      "needs_background": "light"
     },
     "output_type": "display_data"
    }
   ],
   "source": [
    "temp['Next_Tmax'].plot.box()"
   ]
  },
  {
   "cell_type": "markdown",
   "id": "0de2b8d1",
   "metadata": {},
   "source": [
    "Outlier were visible for this column"
   ]
  },
  {
   "cell_type": "code",
   "execution_count": 43,
   "id": "71e00b8d",
   "metadata": {},
   "outputs": [
    {
     "data": {
      "text/plain": [
       "<AxesSubplot:>"
      ]
     },
     "execution_count": 43,
     "metadata": {},
     "output_type": "execute_result"
    },
    {
     "data": {
      "image/png": "[encoded data removed]",
      "text/plain": [
       "<Figure size 432x288 with 1 Axes>"
      ]
     },
     "metadata": {
      "needs_background": "light"
     },
     "output_type": "display_data"
    }
   ],
   "source": [
    "temp['Next_Tmin'].plot.box()"
   ]
  },
  {
   "cell_type": "markdown",
   "id": "c6ab4e96",
   "metadata": {},
   "source": [
    "Outlier were visible for this column also"
   ]
  },
  {
   "cell_type": "markdown",
   "id": "8f3297a8",
   "metadata": {},
   "source": [
    "# Removing Outliers"
   ]
  },
  {
   "cell_type": "code",
   "execution_count": 44,
   "id": "32c3114d",
   "metadata": {},
   "outputs": [
    {
     "data": {
      "text/plain": [
       "array([[1.6643153 , 0.36132577, 0.75952931, ..., 1.51793488, 0.37628214,\n",
       "        0.6975993 ],\n",
       "       [1.52562236, 0.72108401, 0.6762959 , ..., 1.22994952, 0.07209725,\n",
       "        0.17406357],\n",
       "       [1.38692941, 0.61960809, 0.03118815, ..., 1.21653443, 0.26425985,\n",
       "        0.38974413],\n",
       "       ...,\n",
       "       [1.6643153 , 2.22171758, 2.42419767, ..., 2.0743251 , 0.79263444,\n",
       "        2.2279345 ],\n",
       "       [0.        , 3.30412736, 4.9628169 , ..., 2.35821196, 4.12345278,\n",
       "        4.68452522],\n",
       "       [0.        , 2.64912642, 2.77789093, ..., 1.51793488, 2.76237361,\n",
       "        2.76579089]])"
      ]
     },
     "execution_count": 44,
     "metadata": {},
     "output_type": "execute_result"
    }
   ],
   "source": [
    "from scipy.stats import zscore\n",
    "z=np.abs(zscore(temp))\n",
    "z"
   ]
  },
  {
   "cell_type": "code",
   "execution_count": 54,
   "id": "e2bb2505",
   "metadata": {},
   "outputs": [
    {
     "name": "stdout",
     "output_type": "stream",
     "text": [
      "(array([  25,   25,   26, ..., 7751, 7751, 7751], dtype=int64), array([ 7, 14, 14, ..., 14, 15, 16], dtype=int64))\n"
     ]
    }
   ],
   "source": [
    "threshold=3\n",
    "print(np.where(z>3))"
   ]
  },
  {
   "cell_type": "code",
   "execution_count": 55,
   "id": "8b9f86d8",
   "metadata": {},
   "outputs": [
    {
     "data": {
      "text/html": [
       "<div>\n",
       "<style scoped>\n",
       "    .dataframe tbody tr th:only-of-type {\n",
       "        vertical-align: middle;\n",
       "    }\n",
       "\n",
       "    .dataframe tbody tr th {\n",
       "        vertical-align: top;\n",
       "    }\n",
       "\n",
       "    .dataframe thead th {\n",
       "        text-align: right;\n",
       "    }\n",
       "</style>\n",
       "<table border=\"1\" class=\"dataframe\">\n",
       "  <thead>\n",
       "    <tr style=\"text-align: right;\">\n",
       "      <th></th>\n",
       "      <th>station</th>\n",
       "      <th>LDAPS_RHmin</th>\n",
       "      <th>LDAPS_RHmax</th>\n",
       "      <th>LDAPS_Tmax_lapse</th>\n",
       "      <th>LDAPS_Tmin_lapse</th>\n",
       "      <th>LDAPS_WS</th>\n",
       "      <th>LDAPS_LH</th>\n",
       "      <th>LDAPS_CC1</th>\n",
       "      <th>LDAPS_CC2</th>\n",
       "      <th>LDAPS_CC3</th>\n",
       "      <th>...</th>\n",
       "      <th>LDAPS_PPT2</th>\n",
       "      <th>LDAPS_PPT3</th>\n",
       "      <th>LDAPS_PPT4</th>\n",
       "      <th>lat</th>\n",
       "      <th>lon</th>\n",
       "      <th>DEM</th>\n",
       "      <th>Slope</th>\n",
       "      <th>Solar radiation</th>\n",
       "      <th>Next_Tmax</th>\n",
       "      <th>Next_Tmin</th>\n",
       "    </tr>\n",
       "  </thead>\n",
       "  <tbody>\n",
       "    <tr>\n",
       "      <th>0</th>\n",
       "      <td>1.0</td>\n",
       "      <td>58.255688</td>\n",
       "      <td>91.116364</td>\n",
       "      <td>28.074101</td>\n",
       "      <td>23.006936</td>\n",
       "      <td>6.818887</td>\n",
       "      <td>69.451805</td>\n",
       "      <td>0.233947</td>\n",
       "      <td>0.203896</td>\n",
       "      <td>1.616969e-01</td>\n",
       "      <td>...</td>\n",
       "      <td>0.0</td>\n",
       "      <td>0.0</td>\n",
       "      <td>0.0</td>\n",
       "      <td>37.6046</td>\n",
       "      <td>126.991</td>\n",
       "      <td>212.3350</td>\n",
       "      <td>2.7850</td>\n",
       "      <td>5992.895996</td>\n",
       "      <td>29.1</td>\n",
       "      <td>21.2</td>\n",
       "    </tr>\n",
       "    <tr>\n",
       "      <th>1</th>\n",
       "      <td>2.0</td>\n",
       "      <td>52.263397</td>\n",
       "      <td>90.604721</td>\n",
       "      <td>29.850689</td>\n",
       "      <td>24.035009</td>\n",
       "      <td>5.691890</td>\n",
       "      <td>51.937448</td>\n",
       "      <td>0.225508</td>\n",
       "      <td>0.251771</td>\n",
       "      <td>1.594441e-01</td>\n",
       "      <td>...</td>\n",
       "      <td>0.0</td>\n",
       "      <td>0.0</td>\n",
       "      <td>0.0</td>\n",
       "      <td>37.6046</td>\n",
       "      <td>127.032</td>\n",
       "      <td>44.7624</td>\n",
       "      <td>0.5141</td>\n",
       "      <td>5869.312500</td>\n",
       "      <td>30.5</td>\n",
       "      <td>22.5</td>\n",
       "    </tr>\n",
       "    <tr>\n",
       "      <th>2</th>\n",
       "      <td>3.0</td>\n",
       "      <td>48.690479</td>\n",
       "      <td>83.973587</td>\n",
       "      <td>30.091292</td>\n",
       "      <td>24.565633</td>\n",
       "      <td>6.138224</td>\n",
       "      <td>20.573050</td>\n",
       "      <td>0.209344</td>\n",
       "      <td>0.257469</td>\n",
       "      <td>2.040915e-01</td>\n",
       "      <td>...</td>\n",
       "      <td>0.0</td>\n",
       "      <td>0.0</td>\n",
       "      <td>0.0</td>\n",
       "      <td>37.5776</td>\n",
       "      <td>127.058</td>\n",
       "      <td>33.3068</td>\n",
       "      <td>0.2661</td>\n",
       "      <td>5863.555664</td>\n",
       "      <td>31.1</td>\n",
       "      <td>23.9</td>\n",
       "    </tr>\n",
       "    <tr>\n",
       "      <th>3</th>\n",
       "      <td>4.0</td>\n",
       "      <td>58.239788</td>\n",
       "      <td>96.483688</td>\n",
       "      <td>29.704629</td>\n",
       "      <td>23.326177</td>\n",
       "      <td>5.650050</td>\n",
       "      <td>65.727144</td>\n",
       "      <td>0.216372</td>\n",
       "      <td>0.226002</td>\n",
       "      <td>1.611574e-01</td>\n",
       "      <td>...</td>\n",
       "      <td>0.0</td>\n",
       "      <td>0.0</td>\n",
       "      <td>0.0</td>\n",
       "      <td>37.6450</td>\n",
       "      <td>127.022</td>\n",
       "      <td>45.7160</td>\n",
       "      <td>2.5348</td>\n",
       "      <td>5856.964844</td>\n",
       "      <td>31.7</td>\n",
       "      <td>24.3</td>\n",
       "    </tr>\n",
       "    <tr>\n",
       "      <th>4</th>\n",
       "      <td>5.0</td>\n",
       "      <td>56.174095</td>\n",
       "      <td>90.155128</td>\n",
       "      <td>29.113934</td>\n",
       "      <td>23.486480</td>\n",
       "      <td>5.735004</td>\n",
       "      <td>107.965535</td>\n",
       "      <td>0.151407</td>\n",
       "      <td>0.249995</td>\n",
       "      <td>1.788925e-01</td>\n",
       "      <td>...</td>\n",
       "      <td>0.0</td>\n",
       "      <td>0.0</td>\n",
       "      <td>0.0</td>\n",
       "      <td>37.5507</td>\n",
       "      <td>127.135</td>\n",
       "      <td>35.0380</td>\n",
       "      <td>0.5055</td>\n",
       "      <td>5859.552246</td>\n",
       "      <td>31.2</td>\n",
       "      <td>22.5</td>\n",
       "    </tr>\n",
       "    <tr>\n",
       "      <th>...</th>\n",
       "      <td>...</td>\n",
       "      <td>...</td>\n",
       "      <td>...</td>\n",
       "      <td>...</td>\n",
       "      <td>...</td>\n",
       "      <td>...</td>\n",
       "      <td>...</td>\n",
       "      <td>...</td>\n",
       "      <td>...</td>\n",
       "      <td>...</td>\n",
       "      <td>...</td>\n",
       "      <td>...</td>\n",
       "      <td>...</td>\n",
       "      <td>...</td>\n",
       "      <td>...</td>\n",
       "      <td>...</td>\n",
       "      <td>...</td>\n",
       "      <td>...</td>\n",
       "      <td>...</td>\n",
       "      <td>...</td>\n",
       "      <td>...</td>\n",
       "    </tr>\n",
       "    <tr>\n",
       "      <th>7745</th>\n",
       "      <td>21.0</td>\n",
       "      <td>24.688997</td>\n",
       "      <td>78.261383</td>\n",
       "      <td>27.812697</td>\n",
       "      <td>18.303014</td>\n",
       "      <td>6.603253</td>\n",
       "      <td>9.614074</td>\n",
       "      <td>0.052902</td>\n",
       "      <td>0.030169</td>\n",
       "      <td>0.000000e+00</td>\n",
       "      <td>...</td>\n",
       "      <td>0.0</td>\n",
       "      <td>0.0</td>\n",
       "      <td>0.0</td>\n",
       "      <td>37.5507</td>\n",
       "      <td>127.040</td>\n",
       "      <td>26.2980</td>\n",
       "      <td>0.5721</td>\n",
       "      <td>4456.024414</td>\n",
       "      <td>27.6</td>\n",
       "      <td>17.7</td>\n",
       "    </tr>\n",
       "    <tr>\n",
       "      <th>7746</th>\n",
       "      <td>22.0</td>\n",
       "      <td>30.094858</td>\n",
       "      <td>83.690018</td>\n",
       "      <td>26.704905</td>\n",
       "      <td>17.814038</td>\n",
       "      <td>5.768083</td>\n",
       "      <td>82.146707</td>\n",
       "      <td>0.066461</td>\n",
       "      <td>0.024518</td>\n",
       "      <td>5.850000e-07</td>\n",
       "      <td>...</td>\n",
       "      <td>0.0</td>\n",
       "      <td>0.0</td>\n",
       "      <td>0.0</td>\n",
       "      <td>37.5102</td>\n",
       "      <td>127.086</td>\n",
       "      <td>21.9668</td>\n",
       "      <td>0.1332</td>\n",
       "      <td>4441.803711</td>\n",
       "      <td>28.0</td>\n",
       "      <td>17.1</td>\n",
       "    </tr>\n",
       "    <tr>\n",
       "      <th>7747</th>\n",
       "      <td>23.0</td>\n",
       "      <td>26.741310</td>\n",
       "      <td>78.869858</td>\n",
       "      <td>26.352081</td>\n",
       "      <td>18.775678</td>\n",
       "      <td>6.148918</td>\n",
       "      <td>72.058294</td>\n",
       "      <td>0.030034</td>\n",
       "      <td>0.081035</td>\n",
       "      <td>0.000000e+00</td>\n",
       "      <td>...</td>\n",
       "      <td>0.0</td>\n",
       "      <td>0.0</td>\n",
       "      <td>0.0</td>\n",
       "      <td>37.5372</td>\n",
       "      <td>126.891</td>\n",
       "      <td>15.5876</td>\n",
       "      <td>0.1554</td>\n",
       "      <td>4443.313965</td>\n",
       "      <td>28.3</td>\n",
       "      <td>18.1</td>\n",
       "    </tr>\n",
       "    <tr>\n",
       "      <th>7748</th>\n",
       "      <td>24.0</td>\n",
       "      <td>24.040634</td>\n",
       "      <td>77.294975</td>\n",
       "      <td>27.010193</td>\n",
       "      <td>18.733519</td>\n",
       "      <td>6.542819</td>\n",
       "      <td>47.241457</td>\n",
       "      <td>0.035874</td>\n",
       "      <td>0.074962</td>\n",
       "      <td>0.000000e+00</td>\n",
       "      <td>...</td>\n",
       "      <td>0.0</td>\n",
       "      <td>0.0</td>\n",
       "      <td>0.0</td>\n",
       "      <td>37.5237</td>\n",
       "      <td>126.909</td>\n",
       "      <td>17.2956</td>\n",
       "      <td>0.2223</td>\n",
       "      <td>4438.373535</td>\n",
       "      <td>28.6</td>\n",
       "      <td>18.8</td>\n",
       "    </tr>\n",
       "    <tr>\n",
       "      <th>7749</th>\n",
       "      <td>25.0</td>\n",
       "      <td>22.933014</td>\n",
       "      <td>77.243744</td>\n",
       "      <td>27.939516</td>\n",
       "      <td>18.522965</td>\n",
       "      <td>7.289264</td>\n",
       "      <td>9.090034</td>\n",
       "      <td>0.048954</td>\n",
       "      <td>0.059869</td>\n",
       "      <td>0.000000e+00</td>\n",
       "      <td>...</td>\n",
       "      <td>0.0</td>\n",
       "      <td>0.0</td>\n",
       "      <td>0.0</td>\n",
       "      <td>37.5237</td>\n",
       "      <td>126.970</td>\n",
       "      <td>19.5844</td>\n",
       "      <td>0.2713</td>\n",
       "      <td>4451.345215</td>\n",
       "      <td>27.8</td>\n",
       "      <td>17.4</td>\n",
       "    </tr>\n",
       "  </tbody>\n",
       "</table>\n",
       "<p>6894 rows × 22 columns</p>\n",
       "</div>"
      ],
      "text/plain": [
       "      station  LDAPS_RHmin  LDAPS_RHmax  LDAPS_Tmax_lapse  LDAPS_Tmin_lapse  \\\n",
       "0         1.0    58.255688    91.116364         28.074101         23.006936   \n",
       "1         2.0    52.263397    90.604721         29.850689         24.035009   \n",
       "2         3.0    48.690479    83.973587         30.091292         24.565633   \n",
       "3         4.0    58.239788    96.483688         29.704629         23.326177   \n",
       "4         5.0    56.174095    90.155128         29.113934         23.486480   \n",
       "...       ...          ...          ...               ...               ...   \n",
       "7745     21.0    24.688997    78.261383         27.812697         18.303014   \n",
       "7746     22.0    30.094858    83.690018         26.704905         17.814038   \n",
       "7747     23.0    26.741310    78.869858         26.352081         18.775678   \n",
       "7748     24.0    24.040634    77.294975         27.010193         18.733519   \n",
       "7749     25.0    22.933014    77.243744         27.939516         18.522965   \n",
       "\n",
       "      LDAPS_WS    LDAPS_LH  LDAPS_CC1  LDAPS_CC2     LDAPS_CC3  ...  \\\n",
       "0     6.818887   69.451805   0.233947   0.203896  1.616969e-01  ...   \n",
       "1     5.691890   51.937448   0.225508   0.251771  1.594441e-01  ...   \n",
       "2     6.138224   20.573050   0.209344   0.257469  2.040915e-01  ...   \n",
       "3     5.650050   65.727144   0.216372   0.226002  1.611574e-01  ...   \n",
       "4     5.735004  107.965535   0.151407   0.249995  1.788925e-01  ...   \n",
       "...        ...         ...        ...        ...           ...  ...   \n",
       "7745  6.603253    9.614074   0.052902   0.030169  0.000000e+00  ...   \n",
       "7746  5.768083   82.146707   0.066461   0.024518  5.850000e-07  ...   \n",
       "7747  6.148918   72.058294   0.030034   0.081035  0.000000e+00  ...   \n",
       "7748  6.542819   47.241457   0.035874   0.074962  0.000000e+00  ...   \n",
       "7749  7.289264    9.090034   0.048954   0.059869  0.000000e+00  ...   \n",
       "\n",
       "      LDAPS_PPT2  LDAPS_PPT3  LDAPS_PPT4      lat      lon       DEM   Slope  \\\n",
       "0            0.0         0.0         0.0  37.6046  126.991  212.3350  2.7850   \n",
       "1            0.0         0.0         0.0  37.6046  127.032   44.7624  0.5141   \n",
       "2            0.0         0.0         0.0  37.5776  127.058   33.3068  0.2661   \n",
       "3            0.0         0.0         0.0  37.6450  127.022   45.7160  2.5348   \n",
       "4            0.0         0.0         0.0  37.5507  127.135   35.0380  0.5055   \n",
       "...          ...         ...         ...      ...      ...       ...     ...   \n",
       "7745         0.0         0.0         0.0  37.5507  127.040   26.2980  0.5721   \n",
       "7746         0.0         0.0         0.0  37.5102  127.086   21.9668  0.1332   \n",
       "7747         0.0         0.0         0.0  37.5372  126.891   15.5876  0.1554   \n",
       "7748         0.0         0.0         0.0  37.5237  126.909   17.2956  0.2223   \n",
       "7749         0.0         0.0         0.0  37.5237  126.970   19.5844  0.2713   \n",
       "\n",
       "      Solar radiation  Next_Tmax  Next_Tmin  \n",
       "0         5992.895996       29.1       21.2  \n",
       "1         5869.312500       30.5       22.5  \n",
       "2         5863.555664       31.1       23.9  \n",
       "3         5856.964844       31.7       24.3  \n",
       "4         5859.552246       31.2       22.5  \n",
       "...               ...        ...        ...  \n",
       "7745      4456.024414       27.6       17.7  \n",
       "7746      4441.803711       28.0       17.1  \n",
       "7747      4443.313965       28.3       18.1  \n",
       "7748      4438.373535       28.6       18.8  \n",
       "7749      4451.345215       27.8       17.4  \n",
       "\n",
       "[6894 rows x 22 columns]"
      ]
     },
     "execution_count": 55,
     "metadata": {},
     "output_type": "execute_result"
    }
   ],
   "source": [
    "temp_new=temp[(z<3).all(axis=1)]\n",
    "temp_new"
   ]
  },
  {
   "cell_type": "code",
   "execution_count": 51,
   "id": "d252d63a",
   "metadata": {},
   "outputs": [],
   "source": [
    "temp.drop('Present_Tmin',axis=1,inplace=True)"
   ]
  },
  {
   "cell_type": "code",
   "execution_count": 52,
   "id": "7cdc8ae9",
   "metadata": {},
   "outputs": [],
   "source": [
    "temp.drop('Present_Tmax',axis=1,inplace=True)"
   ]
  },
  {
   "cell_type": "code",
   "execution_count": 53,
   "id": "d4c44b56",
   "metadata": {},
   "outputs": [
    {
     "data": {
      "text/html": [
       "<div>\n",
       "<style scoped>\n",
       "    .dataframe tbody tr th:only-of-type {\n",
       "        vertical-align: middle;\n",
       "    }\n",
       "\n",
       "    .dataframe tbody tr th {\n",
       "        vertical-align: top;\n",
       "    }\n",
       "\n",
       "    .dataframe thead th {\n",
       "        text-align: right;\n",
       "    }\n",
       "</style>\n",
       "<table border=\"1\" class=\"dataframe\">\n",
       "  <thead>\n",
       "    <tr style=\"text-align: right;\">\n",
       "      <th></th>\n",
       "      <th>station</th>\n",
       "      <th>LDAPS_RHmin</th>\n",
       "      <th>LDAPS_RHmax</th>\n",
       "      <th>LDAPS_Tmax_lapse</th>\n",
       "      <th>LDAPS_Tmin_lapse</th>\n",
       "      <th>LDAPS_WS</th>\n",
       "      <th>LDAPS_LH</th>\n",
       "      <th>LDAPS_CC1</th>\n",
       "      <th>LDAPS_CC2</th>\n",
       "      <th>LDAPS_CC3</th>\n",
       "      <th>...</th>\n",
       "      <th>LDAPS_PPT2</th>\n",
       "      <th>LDAPS_PPT3</th>\n",
       "      <th>LDAPS_PPT4</th>\n",
       "      <th>lat</th>\n",
       "      <th>lon</th>\n",
       "      <th>DEM</th>\n",
       "      <th>Slope</th>\n",
       "      <th>Solar radiation</th>\n",
       "      <th>Next_Tmax</th>\n",
       "      <th>Next_Tmin</th>\n",
       "    </tr>\n",
       "  </thead>\n",
       "  <tbody>\n",
       "    <tr>\n",
       "      <th>0</th>\n",
       "      <td>1.0</td>\n",
       "      <td>58.255688</td>\n",
       "      <td>91.116364</td>\n",
       "      <td>28.074101</td>\n",
       "      <td>23.006936</td>\n",
       "      <td>6.818887</td>\n",
       "      <td>69.451805</td>\n",
       "      <td>0.233947</td>\n",
       "      <td>0.203896</td>\n",
       "      <td>0.161697</td>\n",
       "      <td>...</td>\n",
       "      <td>0.000000</td>\n",
       "      <td>0.000000</td>\n",
       "      <td>0.000000</td>\n",
       "      <td>37.6046</td>\n",
       "      <td>126.991</td>\n",
       "      <td>212.3350</td>\n",
       "      <td>2.785000</td>\n",
       "      <td>5992.895996</td>\n",
       "      <td>29.1</td>\n",
       "      <td>21.2</td>\n",
       "    </tr>\n",
       "    <tr>\n",
       "      <th>1</th>\n",
       "      <td>2.0</td>\n",
       "      <td>52.263397</td>\n",
       "      <td>90.604721</td>\n",
       "      <td>29.850689</td>\n",
       "      <td>24.035009</td>\n",
       "      <td>5.691890</td>\n",
       "      <td>51.937448</td>\n",
       "      <td>0.225508</td>\n",
       "      <td>0.251771</td>\n",
       "      <td>0.159444</td>\n",
       "      <td>...</td>\n",
       "      <td>0.000000</td>\n",
       "      <td>0.000000</td>\n",
       "      <td>0.000000</td>\n",
       "      <td>37.6046</td>\n",
       "      <td>127.032</td>\n",
       "      <td>44.7624</td>\n",
       "      <td>0.514100</td>\n",
       "      <td>5869.312500</td>\n",
       "      <td>30.5</td>\n",
       "      <td>22.5</td>\n",
       "    </tr>\n",
       "    <tr>\n",
       "      <th>2</th>\n",
       "      <td>3.0</td>\n",
       "      <td>48.690479</td>\n",
       "      <td>83.973587</td>\n",
       "      <td>30.091292</td>\n",
       "      <td>24.565633</td>\n",
       "      <td>6.138224</td>\n",
       "      <td>20.573050</td>\n",
       "      <td>0.209344</td>\n",
       "      <td>0.257469</td>\n",
       "      <td>0.204091</td>\n",
       "      <td>...</td>\n",
       "      <td>0.000000</td>\n",
       "      <td>0.000000</td>\n",
       "      <td>0.000000</td>\n",
       "      <td>37.5776</td>\n",
       "      <td>127.058</td>\n",
       "      <td>33.3068</td>\n",
       "      <td>0.266100</td>\n",
       "      <td>5863.555664</td>\n",
       "      <td>31.1</td>\n",
       "      <td>23.9</td>\n",
       "    </tr>\n",
       "    <tr>\n",
       "      <th>3</th>\n",
       "      <td>4.0</td>\n",
       "      <td>58.239788</td>\n",
       "      <td>96.483688</td>\n",
       "      <td>29.704629</td>\n",
       "      <td>23.326177</td>\n",
       "      <td>5.650050</td>\n",
       "      <td>65.727144</td>\n",
       "      <td>0.216372</td>\n",
       "      <td>0.226002</td>\n",
       "      <td>0.161157</td>\n",
       "      <td>...</td>\n",
       "      <td>0.000000</td>\n",
       "      <td>0.000000</td>\n",
       "      <td>0.000000</td>\n",
       "      <td>37.6450</td>\n",
       "      <td>127.022</td>\n",
       "      <td>45.7160</td>\n",
       "      <td>2.534800</td>\n",
       "      <td>5856.964844</td>\n",
       "      <td>31.7</td>\n",
       "      <td>24.3</td>\n",
       "    </tr>\n",
       "    <tr>\n",
       "      <th>4</th>\n",
       "      <td>5.0</td>\n",
       "      <td>56.174095</td>\n",
       "      <td>90.155128</td>\n",
       "      <td>29.113934</td>\n",
       "      <td>23.486480</td>\n",
       "      <td>5.735004</td>\n",
       "      <td>107.965535</td>\n",
       "      <td>0.151407</td>\n",
       "      <td>0.249995</td>\n",
       "      <td>0.178892</td>\n",
       "      <td>...</td>\n",
       "      <td>0.000000</td>\n",
       "      <td>0.000000</td>\n",
       "      <td>0.000000</td>\n",
       "      <td>37.5507</td>\n",
       "      <td>127.135</td>\n",
       "      <td>35.0380</td>\n",
       "      <td>0.505500</td>\n",
       "      <td>5859.552246</td>\n",
       "      <td>31.2</td>\n",
       "      <td>22.5</td>\n",
       "    </tr>\n",
       "    <tr>\n",
       "      <th>...</th>\n",
       "      <td>...</td>\n",
       "      <td>...</td>\n",
       "      <td>...</td>\n",
       "      <td>...</td>\n",
       "      <td>...</td>\n",
       "      <td>...</td>\n",
       "      <td>...</td>\n",
       "      <td>...</td>\n",
       "      <td>...</td>\n",
       "      <td>...</td>\n",
       "      <td>...</td>\n",
       "      <td>...</td>\n",
       "      <td>...</td>\n",
       "      <td>...</td>\n",
       "      <td>...</td>\n",
       "      <td>...</td>\n",
       "      <td>...</td>\n",
       "      <td>...</td>\n",
       "      <td>...</td>\n",
       "      <td>...</td>\n",
       "      <td>...</td>\n",
       "    </tr>\n",
       "    <tr>\n",
       "      <th>7747</th>\n",
       "      <td>23.0</td>\n",
       "      <td>26.741310</td>\n",
       "      <td>78.869858</td>\n",
       "      <td>26.352081</td>\n",
       "      <td>18.775678</td>\n",
       "      <td>6.148918</td>\n",
       "      <td>72.058294</td>\n",
       "      <td>0.030034</td>\n",
       "      <td>0.081035</td>\n",
       "      <td>0.000000</td>\n",
       "      <td>...</td>\n",
       "      <td>0.000000</td>\n",
       "      <td>0.000000</td>\n",
       "      <td>0.000000</td>\n",
       "      <td>37.5372</td>\n",
       "      <td>126.891</td>\n",
       "      <td>15.5876</td>\n",
       "      <td>0.155400</td>\n",
       "      <td>4443.313965</td>\n",
       "      <td>28.3</td>\n",
       "      <td>18.1</td>\n",
       "    </tr>\n",
       "    <tr>\n",
       "      <th>7748</th>\n",
       "      <td>24.0</td>\n",
       "      <td>24.040634</td>\n",
       "      <td>77.294975</td>\n",
       "      <td>27.010193</td>\n",
       "      <td>18.733519</td>\n",
       "      <td>6.542819</td>\n",
       "      <td>47.241457</td>\n",
       "      <td>0.035874</td>\n",
       "      <td>0.074962</td>\n",
       "      <td>0.000000</td>\n",
       "      <td>...</td>\n",
       "      <td>0.000000</td>\n",
       "      <td>0.000000</td>\n",
       "      <td>0.000000</td>\n",
       "      <td>37.5237</td>\n",
       "      <td>126.909</td>\n",
       "      <td>17.2956</td>\n",
       "      <td>0.222300</td>\n",
       "      <td>4438.373535</td>\n",
       "      <td>28.6</td>\n",
       "      <td>18.8</td>\n",
       "    </tr>\n",
       "    <tr>\n",
       "      <th>7749</th>\n",
       "      <td>25.0</td>\n",
       "      <td>22.933014</td>\n",
       "      <td>77.243744</td>\n",
       "      <td>27.939516</td>\n",
       "      <td>18.522965</td>\n",
       "      <td>7.289264</td>\n",
       "      <td>9.090034</td>\n",
       "      <td>0.048954</td>\n",
       "      <td>0.059869</td>\n",
       "      <td>0.000000</td>\n",
       "      <td>...</td>\n",
       "      <td>0.000000</td>\n",
       "      <td>0.000000</td>\n",
       "      <td>0.000000</td>\n",
       "      <td>37.5237</td>\n",
       "      <td>126.970</td>\n",
       "      <td>19.5844</td>\n",
       "      <td>0.271300</td>\n",
       "      <td>4451.345215</td>\n",
       "      <td>27.8</td>\n",
       "      <td>17.4</td>\n",
       "    </tr>\n",
       "    <tr>\n",
       "      <th>7750</th>\n",
       "      <td>13.0</td>\n",
       "      <td>19.794666</td>\n",
       "      <td>58.936283</td>\n",
       "      <td>17.624954</td>\n",
       "      <td>14.272646</td>\n",
       "      <td>2.882580</td>\n",
       "      <td>-13.603212</td>\n",
       "      <td>0.000000</td>\n",
       "      <td>0.000000</td>\n",
       "      <td>0.000000</td>\n",
       "      <td>...</td>\n",
       "      <td>0.000000</td>\n",
       "      <td>0.000000</td>\n",
       "      <td>0.000000</td>\n",
       "      <td>37.4562</td>\n",
       "      <td>126.826</td>\n",
       "      <td>12.3700</td>\n",
       "      <td>0.098475</td>\n",
       "      <td>4329.520508</td>\n",
       "      <td>17.4</td>\n",
       "      <td>11.3</td>\n",
       "    </tr>\n",
       "    <tr>\n",
       "      <th>7751</th>\n",
       "      <td>13.0</td>\n",
       "      <td>98.524734</td>\n",
       "      <td>100.000153</td>\n",
       "      <td>38.542255</td>\n",
       "      <td>29.619342</td>\n",
       "      <td>21.857621</td>\n",
       "      <td>213.414006</td>\n",
       "      <td>0.967277</td>\n",
       "      <td>0.968353</td>\n",
       "      <td>0.983789</td>\n",
       "      <td>...</td>\n",
       "      <td>21.621661</td>\n",
       "      <td>15.841235</td>\n",
       "      <td>16.655469</td>\n",
       "      <td>37.6450</td>\n",
       "      <td>127.135</td>\n",
       "      <td>212.3350</td>\n",
       "      <td>5.178230</td>\n",
       "      <td>5992.895996</td>\n",
       "      <td>38.9</td>\n",
       "      <td>29.8</td>\n",
       "    </tr>\n",
       "  </tbody>\n",
       "</table>\n",
       "<p>7752 rows × 22 columns</p>\n",
       "</div>"
      ],
      "text/plain": [
       "      station  LDAPS_RHmin  LDAPS_RHmax  LDAPS_Tmax_lapse  LDAPS_Tmin_lapse  \\\n",
       "0         1.0    58.255688    91.116364         28.074101         23.006936   \n",
       "1         2.0    52.263397    90.604721         29.850689         24.035009   \n",
       "2         3.0    48.690479    83.973587         30.091292         24.565633   \n",
       "3         4.0    58.239788    96.483688         29.704629         23.326177   \n",
       "4         5.0    56.174095    90.155128         29.113934         23.486480   \n",
       "...       ...          ...          ...               ...               ...   \n",
       "7747     23.0    26.741310    78.869858         26.352081         18.775678   \n",
       "7748     24.0    24.040634    77.294975         27.010193         18.733519   \n",
       "7749     25.0    22.933014    77.243744         27.939516         18.522965   \n",
       "7750     13.0    19.794666    58.936283         17.624954         14.272646   \n",
       "7751     13.0    98.524734   100.000153         38.542255         29.619342   \n",
       "\n",
       "       LDAPS_WS    LDAPS_LH  LDAPS_CC1  LDAPS_CC2  LDAPS_CC3  ...  LDAPS_PPT2  \\\n",
       "0      6.818887   69.451805   0.233947   0.203896   0.161697  ...    0.000000   \n",
       "1      5.691890   51.937448   0.225508   0.251771   0.159444  ...    0.000000   \n",
       "2      6.138224   20.573050   0.209344   0.257469   0.204091  ...    0.000000   \n",
       "3      5.650050   65.727144   0.216372   0.226002   0.161157  ...    0.000000   \n",
       "4      5.735004  107.965535   0.151407   0.249995   0.178892  ...    0.000000   \n",
       "...         ...         ...        ...        ...        ...  ...         ...   \n",
       "7747   6.148918   72.058294   0.030034   0.081035   0.000000  ...    0.000000   \n",
       "7748   6.542819   47.241457   0.035874   0.074962   0.000000  ...    0.000000   \n",
       "7749   7.289264    9.090034   0.048954   0.059869   0.000000  ...    0.000000   \n",
       "7750   2.882580  -13.603212   0.000000   0.000000   0.000000  ...    0.000000   \n",
       "7751  21.857621  213.414006   0.967277   0.968353   0.983789  ...   21.621661   \n",
       "\n",
       "      LDAPS_PPT3  LDAPS_PPT4      lat      lon       DEM     Slope  \\\n",
       "0       0.000000    0.000000  37.6046  126.991  212.3350  2.785000   \n",
       "1       0.000000    0.000000  37.6046  127.032   44.7624  0.514100   \n",
       "2       0.000000    0.000000  37.5776  127.058   33.3068  0.266100   \n",
       "3       0.000000    0.000000  37.6450  127.022   45.7160  2.534800   \n",
       "4       0.000000    0.000000  37.5507  127.135   35.0380  0.505500   \n",
       "...          ...         ...      ...      ...       ...       ...   \n",
       "7747    0.000000    0.000000  37.5372  126.891   15.5876  0.155400   \n",
       "7748    0.000000    0.000000  37.5237  126.909   17.2956  0.222300   \n",
       "7749    0.000000    0.000000  37.5237  126.970   19.5844  0.271300   \n",
       "7750    0.000000    0.000000  37.4562  126.826   12.3700  0.098475   \n",
       "7751   15.841235   16.655469  37.6450  127.135  212.3350  5.178230   \n",
       "\n",
       "      Solar radiation  Next_Tmax  Next_Tmin  \n",
       "0         5992.895996       29.1       21.2  \n",
       "1         5869.312500       30.5       22.5  \n",
       "2         5863.555664       31.1       23.9  \n",
       "3         5856.964844       31.7       24.3  \n",
       "4         5859.552246       31.2       22.5  \n",
       "...               ...        ...        ...  \n",
       "7747      4443.313965       28.3       18.1  \n",
       "7748      4438.373535       28.6       18.8  \n",
       "7749      4451.345215       27.8       17.4  \n",
       "7750      4329.520508       17.4       11.3  \n",
       "7751      5992.895996       38.9       29.8  \n",
       "\n",
       "[7752 rows x 22 columns]"
      ]
     },
     "execution_count": 53,
     "metadata": {},
     "output_type": "execute_result"
    }
   ],
   "source": [
    "temp"
   ]
  },
  {
   "cell_type": "markdown",
   "id": "b47fba9b",
   "metadata": {},
   "source": [
    "# StandardScaler Method"
   ]
  },
  {
   "cell_type": "code",
   "execution_count": 61,
   "id": "18ccf45d",
   "metadata": {},
   "outputs": [],
   "source": [
    "from sklearn.preprocessing import StandardScaler\n",
    "\n",
    "scaler = StandardScaler()\n",
    "scaledX = scaler.fit_transform(temp)"
   ]
  },
  {
   "cell_type": "code",
   "execution_count": 62,
   "id": "d315d79a",
   "metadata": {},
   "outputs": [
    {
     "data": {
      "text/plain": [
       "array([[-1.6643153 ,  0.10251523,  0.38307796, ...,  1.51793488,\n",
       "        -0.37628214, -0.6975993 ],\n",
       "       [-1.52562236, -0.30802721,  0.31158619, ...,  1.22994952,\n",
       "         0.07209725, -0.17406357],\n",
       "       [-1.38692941, -0.55281415, -0.61498177, ...,  1.21653443,\n",
       "         0.26425985,  0.38974413],\n",
       "       ...,\n",
       "       [ 1.6643153 , -2.31750374, -1.55534234, ..., -2.0743251 ,\n",
       "        -0.79263444, -2.2279345 ],\n",
       "       [ 0.        , -2.5325175 , -4.11344274, ..., -2.35821196,\n",
       "        -4.12345278, -4.68452522],\n",
       "       [ 0.        ,  2.86141898,  1.62440928, ...,  1.51793488,\n",
       "         2.76237361,  2.76579089]])"
      ]
     },
     "execution_count": 62,
     "metadata": {},
     "output_type": "execute_result"
    }
   ],
   "source": [
    "scaledX"
   ]
  },
  {
   "cell_type": "markdown",
   "id": "bd9b8196",
   "metadata": {},
   "source": [
    "Here standardscaler values of scaledX"
   ]
  },
  {
   "cell_type": "code",
   "execution_count": 63,
   "id": "693738d2",
   "metadata": {},
   "outputs": [],
   "source": [
    "from sklearn.decomposition import PCA\n",
    "\n",
    "testpca = PCA()\n",
    "Y = testpca.fit(scaledX)"
   ]
  },
  {
   "cell_type": "code",
   "execution_count": 64,
   "id": "f05a6087",
   "metadata": {},
   "outputs": [
    {
     "data": {
      "text/plain": [
       "array([0.25262175, 0.13076621, 0.08784657, 0.06634815, 0.06196137,\n",
       "       0.05291446, 0.04680015, 0.04269392, 0.03822682, 0.03661518,\n",
       "       0.03185972, 0.02991004, 0.02848953, 0.02501616, 0.01730948,\n",
       "       0.01252624, 0.0097295 , 0.00833353, 0.00662524, 0.00577757,\n",
       "       0.00509781, 0.00253059])"
      ]
     },
     "execution_count": 64,
     "metadata": {},
     "output_type": "execute_result"
    }
   ],
   "source": [
    "Y.explained_variance_ratio_"
   ]
  },
  {
   "cell_type": "code",
   "execution_count": 65,
   "id": "0f0fc22c",
   "metadata": {},
   "outputs": [
    {
     "data": {
      "text/plain": [
       "array([ 25.26217492,  38.33879575,  47.12345323,  53.75826841,\n",
       "        59.95440568,  65.24585147,  69.92586615,  74.1952585 ,\n",
       "        78.01794096,  81.6794589 ,  84.86543093,  87.85643541,\n",
       "        90.70538871,  93.20700455,  94.93795248,  96.19057605,\n",
       "        97.16352633,  97.99687927,  98.65940337,  99.23716054,\n",
       "        99.74694147, 100.        ])"
      ]
     },
     "execution_count": 65,
     "metadata": {},
     "output_type": "execute_result"
    }
   ],
   "source": [
    "var_cumu = np.cumsum(Y.explained_variance_ratio_)*100\n",
    "var_cumu"
   ]
  },
  {
   "cell_type": "code",
   "execution_count": 66,
   "id": "8b05d22f",
   "metadata": {},
   "outputs": [
    {
     "name": "stdout",
     "output_type": "stream",
     "text": [
      "Number of components explaining 99% variance: 19\n"
     ]
    }
   ],
   "source": [
    "k = np.argmax(var_cumu>99)\n",
    "print(\"Number of components explaining 99% variance:\",k)"
   ]
  },
  {
   "cell_type": "markdown",
   "id": "6f5fc966",
   "metadata": {},
   "source": [
    "Number of components explaining 99% variance: 19"
   ]
  },
  {
   "cell_type": "code",
   "execution_count": 69,
   "id": "4704852d",
   "metadata": {},
   "outputs": [
    {
     "data": {
      "image/png": "[encoded data removed]",
      "text/plain": [
       "<Figure size 432x288 with 1 Axes>"
      ]
     },
     "metadata": {
      "needs_background": "light"
     },
     "output_type": "display_data"
    }
   ],
   "source": [
    "plt.ylabel('Cumulative Expalined varience')\n",
    "plt.xlabel('Principle components')\n",
    "plt.axvline(x=k, color=\"g\",linestyle=\"--\")\n",
    "plt.axhline(y=9, color=\"r\",linestyle=\"--\")\n",
    "\n",
    "plt.plot(var_cumu)\n",
    "plt.show()"
   ]
  },
  {
   "cell_type": "markdown",
   "id": "b0af13c8",
   "metadata": {},
   "source": [
    "Here the plot x axis contains principan components and y axis conatins cumulative expalined varience"
   ]
  },
  {
   "cell_type": "markdown",
   "id": "e9d7b718",
   "metadata": {},
   "source": [
    "# Modle Handling"
   ]
  },
  {
   "cell_type": "code",
   "execution_count": 71,
   "id": "eea6f2a9",
   "metadata": {},
   "outputs": [],
   "source": [
    "x_train=temp.drop('Next_Tmax',axis=1)\n",
    "y_train=temp.Next_Tmax"
   ]
  },
  {
   "cell_type": "code",
   "execution_count": 74,
   "id": "d529310f",
   "metadata": {},
   "outputs": [],
   "source": [
    "x_train=temp.drop('Next_Tmin',axis=1)\n",
    "y_train=temp.Next_Tmin"
   ]
  },
  {
   "cell_type": "code",
   "execution_count": 75,
   "id": "b7cac91f",
   "metadata": {},
   "outputs": [
    {
     "data": {
      "text/html": [
       "<div>\n",
       "<style scoped>\n",
       "    .dataframe tbody tr th:only-of-type {\n",
       "        vertical-align: middle;\n",
       "    }\n",
       "\n",
       "    .dataframe tbody tr th {\n",
       "        vertical-align: top;\n",
       "    }\n",
       "\n",
       "    .dataframe thead th {\n",
       "        text-align: right;\n",
       "    }\n",
       "</style>\n",
       "<table border=\"1\" class=\"dataframe\">\n",
       "  <thead>\n",
       "    <tr style=\"text-align: right;\">\n",
       "      <th></th>\n",
       "      <th>station</th>\n",
       "      <th>LDAPS_RHmin</th>\n",
       "      <th>LDAPS_RHmax</th>\n",
       "      <th>LDAPS_Tmax_lapse</th>\n",
       "      <th>LDAPS_Tmin_lapse</th>\n",
       "      <th>LDAPS_WS</th>\n",
       "      <th>LDAPS_LH</th>\n",
       "      <th>LDAPS_CC1</th>\n",
       "      <th>LDAPS_CC2</th>\n",
       "      <th>LDAPS_CC3</th>\n",
       "      <th>...</th>\n",
       "      <th>LDAPS_PPT1</th>\n",
       "      <th>LDAPS_PPT2</th>\n",
       "      <th>LDAPS_PPT3</th>\n",
       "      <th>LDAPS_PPT4</th>\n",
       "      <th>lat</th>\n",
       "      <th>lon</th>\n",
       "      <th>DEM</th>\n",
       "      <th>Slope</th>\n",
       "      <th>Solar radiation</th>\n",
       "      <th>Next_Tmax</th>\n",
       "    </tr>\n",
       "  </thead>\n",
       "  <tbody>\n",
       "    <tr>\n",
       "      <th>0</th>\n",
       "      <td>1.0</td>\n",
       "      <td>58.255688</td>\n",
       "      <td>91.116364</td>\n",
       "      <td>28.074101</td>\n",
       "      <td>23.006936</td>\n",
       "      <td>6.818887</td>\n",
       "      <td>69.451805</td>\n",
       "      <td>0.233947</td>\n",
       "      <td>0.203896</td>\n",
       "      <td>0.161697</td>\n",
       "      <td>...</td>\n",
       "      <td>0.0</td>\n",
       "      <td>0.0</td>\n",
       "      <td>0.0</td>\n",
       "      <td>0.0</td>\n",
       "      <td>37.6046</td>\n",
       "      <td>126.991</td>\n",
       "      <td>212.3350</td>\n",
       "      <td>2.7850</td>\n",
       "      <td>5992.895996</td>\n",
       "      <td>29.1</td>\n",
       "    </tr>\n",
       "    <tr>\n",
       "      <th>1</th>\n",
       "      <td>2.0</td>\n",
       "      <td>52.263397</td>\n",
       "      <td>90.604721</td>\n",
       "      <td>29.850689</td>\n",
       "      <td>24.035009</td>\n",
       "      <td>5.691890</td>\n",
       "      <td>51.937448</td>\n",
       "      <td>0.225508</td>\n",
       "      <td>0.251771</td>\n",
       "      <td>0.159444</td>\n",
       "      <td>...</td>\n",
       "      <td>0.0</td>\n",
       "      <td>0.0</td>\n",
       "      <td>0.0</td>\n",
       "      <td>0.0</td>\n",
       "      <td>37.6046</td>\n",
       "      <td>127.032</td>\n",
       "      <td>44.7624</td>\n",
       "      <td>0.5141</td>\n",
       "      <td>5869.312500</td>\n",
       "      <td>30.5</td>\n",
       "    </tr>\n",
       "    <tr>\n",
       "      <th>2</th>\n",
       "      <td>3.0</td>\n",
       "      <td>48.690479</td>\n",
       "      <td>83.973587</td>\n",
       "      <td>30.091292</td>\n",
       "      <td>24.565633</td>\n",
       "      <td>6.138224</td>\n",
       "      <td>20.573050</td>\n",
       "      <td>0.209344</td>\n",
       "      <td>0.257469</td>\n",
       "      <td>0.204091</td>\n",
       "      <td>...</td>\n",
       "      <td>0.0</td>\n",
       "      <td>0.0</td>\n",
       "      <td>0.0</td>\n",
       "      <td>0.0</td>\n",
       "      <td>37.5776</td>\n",
       "      <td>127.058</td>\n",
       "      <td>33.3068</td>\n",
       "      <td>0.2661</td>\n",
       "      <td>5863.555664</td>\n",
       "      <td>31.1</td>\n",
       "    </tr>\n",
       "    <tr>\n",
       "      <th>3</th>\n",
       "      <td>4.0</td>\n",
       "      <td>58.239788</td>\n",
       "      <td>96.483688</td>\n",
       "      <td>29.704629</td>\n",
       "      <td>23.326177</td>\n",
       "      <td>5.650050</td>\n",
       "      <td>65.727144</td>\n",
       "      <td>0.216372</td>\n",
       "      <td>0.226002</td>\n",
       "      <td>0.161157</td>\n",
       "      <td>...</td>\n",
       "      <td>0.0</td>\n",
       "      <td>0.0</td>\n",
       "      <td>0.0</td>\n",
       "      <td>0.0</td>\n",
       "      <td>37.6450</td>\n",
       "      <td>127.022</td>\n",
       "      <td>45.7160</td>\n",
       "      <td>2.5348</td>\n",
       "      <td>5856.964844</td>\n",
       "      <td>31.7</td>\n",
       "    </tr>\n",
       "    <tr>\n",
       "      <th>4</th>\n",
       "      <td>5.0</td>\n",
       "      <td>56.174095</td>\n",
       "      <td>90.155128</td>\n",
       "      <td>29.113934</td>\n",
       "      <td>23.486480</td>\n",
       "      <td>5.735004</td>\n",
       "      <td>107.965535</td>\n",
       "      <td>0.151407</td>\n",
       "      <td>0.249995</td>\n",
       "      <td>0.178892</td>\n",
       "      <td>...</td>\n",
       "      <td>0.0</td>\n",
       "      <td>0.0</td>\n",
       "      <td>0.0</td>\n",
       "      <td>0.0</td>\n",
       "      <td>37.5507</td>\n",
       "      <td>127.135</td>\n",
       "      <td>35.0380</td>\n",
       "      <td>0.5055</td>\n",
       "      <td>5859.552246</td>\n",
       "      <td>31.2</td>\n",
       "    </tr>\n",
       "  </tbody>\n",
       "</table>\n",
       "<p>5 rows × 21 columns</p>\n",
       "</div>"
      ],
      "text/plain": [
       "   station  LDAPS_RHmin  LDAPS_RHmax  LDAPS_Tmax_lapse  LDAPS_Tmin_lapse  \\\n",
       "0      1.0    58.255688    91.116364         28.074101         23.006936   \n",
       "1      2.0    52.263397    90.604721         29.850689         24.035009   \n",
       "2      3.0    48.690479    83.973587         30.091292         24.565633   \n",
       "3      4.0    58.239788    96.483688         29.704629         23.326177   \n",
       "4      5.0    56.174095    90.155128         29.113934         23.486480   \n",
       "\n",
       "   LDAPS_WS    LDAPS_LH  LDAPS_CC1  LDAPS_CC2  LDAPS_CC3  ...  LDAPS_PPT1  \\\n",
       "0  6.818887   69.451805   0.233947   0.203896   0.161697  ...         0.0   \n",
       "1  5.691890   51.937448   0.225508   0.251771   0.159444  ...         0.0   \n",
       "2  6.138224   20.573050   0.209344   0.257469   0.204091  ...         0.0   \n",
       "3  5.650050   65.727144   0.216372   0.226002   0.161157  ...         0.0   \n",
       "4  5.735004  107.965535   0.151407   0.249995   0.178892  ...         0.0   \n",
       "\n",
       "   LDAPS_PPT2  LDAPS_PPT3  LDAPS_PPT4      lat      lon       DEM   Slope  \\\n",
       "0         0.0         0.0         0.0  37.6046  126.991  212.3350  2.7850   \n",
       "1         0.0         0.0         0.0  37.6046  127.032   44.7624  0.5141   \n",
       "2         0.0         0.0         0.0  37.5776  127.058   33.3068  0.2661   \n",
       "3         0.0         0.0         0.0  37.6450  127.022   45.7160  2.5348   \n",
       "4         0.0         0.0         0.0  37.5507  127.135   35.0380  0.5055   \n",
       "\n",
       "   Solar radiation  Next_Tmax  \n",
       "0      5992.895996       29.1  \n",
       "1      5869.312500       30.5  \n",
       "2      5863.555664       31.1  \n",
       "3      5856.964844       31.7  \n",
       "4      5859.552246       31.2  \n",
       "\n",
       "[5 rows x 21 columns]"
      ]
     },
     "execution_count": 75,
     "metadata": {},
     "output_type": "execute_result"
    }
   ],
   "source": [
    "x_train.head()"
   ]
  },
  {
   "cell_type": "code",
   "execution_count": 76,
   "id": "02fa0e91",
   "metadata": {},
   "outputs": [
    {
     "data": {
      "text/plain": [
       "0    21.2\n",
       "1    22.5\n",
       "2    23.9\n",
       "3    24.3\n",
       "4    22.5\n",
       "Name: Next_Tmin, dtype: float64"
      ]
     },
     "execution_count": 76,
     "metadata": {},
     "output_type": "execute_result"
    }
   ],
   "source": [
    "y_train.head()"
   ]
  },
  {
   "cell_type": "code",
   "execution_count": 77,
   "id": "1d9899cf",
   "metadata": {},
   "outputs": [
    {
     "data": {
      "text/plain": [
       "(7752, 21)"
      ]
     },
     "execution_count": 77,
     "metadata": {},
     "output_type": "execute_result"
    }
   ],
   "source": [
    "x_train.shape"
   ]
  },
  {
   "cell_type": "markdown",
   "id": "b23bff74",
   "metadata": {},
   "source": [
    "this x_train having 7752 rows and 21 columns"
   ]
  },
  {
   "cell_type": "code",
   "execution_count": 78,
   "id": "72022233",
   "metadata": {},
   "outputs": [
    {
     "data": {
      "text/plain": [
       "(7752,)"
      ]
     },
     "execution_count": 78,
     "metadata": {},
     "output_type": "execute_result"
    }
   ],
   "source": [
    "y_train.shape"
   ]
  },
  {
   "cell_type": "markdown",
   "id": "41886255",
   "metadata": {},
   "source": [
    "this y train contains 7752 rows and no columns"
   ]
  },
  {
   "cell_type": "markdown",
   "id": "df2bd608",
   "metadata": {},
   "source": [
    "# Regressor method"
   ]
  },
  {
   "cell_type": "code",
   "execution_count": 79,
   "id": "06d97b03",
   "metadata": {},
   "outputs": [],
   "source": [
    "from sklearn.model_selection import train_test_split\n",
    "\n",
    "from sklearn.metrics import accuracy_score"
   ]
  },
  {
   "cell_type": "code",
   "execution_count": 81,
   "id": "ffa3061f",
   "metadata": {},
   "outputs": [],
   "source": [
    "x= temp.drop(['Next_Tmax'],axis=1)\n",
    "y=temp[\"Next_Tmax\"]\n",
    "x_train,y_train,x_test,y_test=train_test_split(x,y,test_size=0.2,random_state=42)"
   ]
  },
  {
   "cell_type": "code",
   "execution_count": 82,
   "id": "a3d0d34c",
   "metadata": {},
   "outputs": [],
   "source": [
    "x= temp.drop(['Next_Tmin'],axis=1)\n",
    "y=temp[\"Next_Tmin\"]\n",
    "x_train,y_train,x_test,y_test=train_test_split(x,y,test_size=0.2,random_state=42)"
   ]
  },
  {
   "cell_type": "code",
   "execution_count": 83,
   "id": "397f1c5c",
   "metadata": {},
   "outputs": [
    {
     "name": "stdout",
     "output_type": "stream",
     "text": [
      "1.143430263804108\n",
      "1.141938624268895\n",
      "1.1568239946471506\n",
      "1.168334834569943\n",
      "1.1546809299025966\n",
      "1.163763838816387\n",
      "1.1326039062705648\n",
      "1.1367687034400147\n",
      "1.1605451766142476\n",
      "1.1530004180046314\n",
      "1.153439558770076\n",
      "1.1501941974721281\n",
      "1.1688952534094157\n",
      "1.1682372727871888\n",
      "1.1565018316541698\n",
      "1.1373136076271895\n",
      "1.1512901509787168\n",
      "1.1514323658793015\n",
      "1.1623255372058534\n",
      "1.158607885677766\n",
      "1.1590990935248542\n",
      "1.1535680528834473\n",
      "1.1452790545943417\n",
      "1.1445017855076454\n",
      "1.1650557309740375\n",
      "1.1553124900184564\n",
      "1.1536899707400132\n",
      "1.1385549141203708\n",
      "1.1493641722701151\n",
      "1.1461012384246165\n",
      "1.1575812978644298\n",
      "1.1708001079900192\n",
      "1.1497908998548538\n",
      "1.1448854362541014\n",
      "1.1466439987256547\n",
      "1.160926798788402\n",
      "1.1627014720066517\n",
      "1.1594419098280735\n",
      "1.1409377564529712\n",
      "1.1430286318425489\n",
      "1.147012675397684\n",
      "1.1434224693189696\n",
      "1.1453712883980227\n",
      "1.148032344390713\n",
      "1.1362871975850588\n",
      "1.132350382453737\n",
      "1.1508667118536493\n",
      "1.1463701953382517\n",
      "1.1523392299000463\n",
      "1.150262473094633\n",
      "1.149585513785079\n",
      "1.1551509536947877\n",
      "1.1639624824954384\n",
      "1.1464393407268363\n",
      "1.1602651702801883\n",
      "1.145173187130126\n",
      "1.1201865342783146\n",
      "1.1453836571172178\n",
      "1.1512209982166048\n",
      "1.1559132715807179\n",
      "1.1386271872307618\n",
      "1.1493895767124627\n",
      "1.1452936491873422\n",
      "1.1486291857738022\n",
      "1.1451924230177453\n",
      "1.1522854541208158\n",
      "1.1486201171354309\n",
      "1.1495128057059998\n",
      "1.1346929461897044\n",
      "1.1579548586891086\n",
      "1.1368930375909496\n",
      "1.1480443700154024\n",
      "1.1481125538665653\n",
      "1.1478782234555154\n",
      "1.1328214006622315\n",
      "1.160415890401678\n",
      "1.1429072668958264\n",
      "1.1489229888238648\n",
      "1.1429114092530324\n",
      "1.1559526880853297\n",
      "1.1449487966364278\n",
      "1.1549755970116755\n",
      "1.158470117926058\n",
      "1.1458164069839758\n",
      "1.1534176478397709\n",
      "1.1434018612535162\n",
      "1.1389961287156245\n",
      "1.1504818615843546\n",
      "1.1395491176390848\n",
      "1.1599078273646226\n",
      "1.1523811518894322\n",
      "1.1472840609017334\n",
      "1.1279343841317413\n",
      "1.1516073500184127\n",
      "1.1548958442506083\n",
      "1.1299045628445035\n",
      "1.1347991198502698\n",
      "1.147080397549859\n",
      "1.1545586631040874\n",
      "1.1437149185919582\n",
      "1.1644678292812696\n",
      "1.1282109672368534\n",
      "1.144519826528497\n",
      "1.1598309446608204\n",
      "1.1477234611148832\n",
      "1.1563376653494692\n",
      "1.155482545459198\n",
      "1.1404103073854066\n",
      "1.1481158378948035\n",
      "1.1507412318192172\n",
      "1.1418132171254327\n",
      "1.1543418635734193\n",
      "1.1479521634045495\n",
      "1.1395055776438905\n",
      "1.156592800969359\n",
      "1.160376462607432\n",
      "1.1555450178183513\n",
      "1.1373267516358228\n",
      "1.147843283197351\n",
      "1.1427195416092149\n",
      "1.154942510161378\n",
      "1.1506902380468684\n",
      "1.160018251344608\n",
      "1.1588234901872938\n",
      "1.1315223852641996\n",
      "1.1499575888173557\n",
      "1.1422241582136279\n",
      "1.1425467337054713\n",
      "1.1439901796756666\n",
      "1.129828951244688\n",
      "1.1364947482551886\n",
      "1.1318254151974965\n",
      "1.1458286586936697\n",
      "1.147931374596946\n",
      "1.1397655711304886\n",
      "1.1482672611752374\n",
      "1.1338806649725497\n",
      "1.1523275395220445\n",
      "1.1402198462718713\n",
      "1.1556482755100679\n",
      "1.1397696850749401\n",
      "1.1440709538504399\n",
      "1.1295279612108746\n",
      "1.1481989705711235\n",
      "1.1462149723911557\n",
      "1.1730617939182468\n",
      "1.147199741167058\n",
      "1.1412794895320852\n",
      "1.157591673109062\n",
      "1.1543026364089186\n",
      "1.1533655852530762\n",
      "1.1542066778723419\n",
      "1.159325094606007\n",
      "1.15198015580767\n",
      "1.1499242878443998\n",
      "1.1211374414054711\n",
      "1.1635957485639887\n",
      "1.1640032088947176\n",
      "1.1526566430752405\n",
      "1.1493464498308954\n",
      "1.1567904360596095\n",
      "1.1315867335715173\n",
      "1.1429709512265136\n",
      "1.1656718412342215\n",
      "1.1279314202499686\n",
      "1.141697245554887\n",
      "1.1451876263476057\n",
      "1.1638979797176658\n",
      "1.1646284086937755\n",
      "1.150273700873056\n",
      "1.138577769371479\n",
      "1.1673009660965128\n",
      "1.1573594280979782\n",
      "1.1446310488666265\n",
      "1.165275288414159\n",
      "1.135981895521413\n",
      "1.1595351307284856\n",
      "1.1435927744240675\n",
      "1.1399351732403633\n",
      "1.156474489512999\n",
      "1.1424752944067953\n",
      "1.1630367532118717\n",
      "1.1372549202633377\n",
      "1.1514782833631216\n",
      "1.1502793665925448\n",
      "1.165811463378572\n",
      "1.1516984210550434\n",
      "1.149892058014663\n",
      "1.140253209531612\n",
      "1.1376862771093494\n",
      "1.1426095798652118\n",
      "1.1535272994941579\n",
      "1.160812816908884\n",
      "1.1374105679638773\n",
      "1.1640319402181216\n",
      "1.1547065758193449\n",
      "1.1482917577162612\n",
      "1.1465018166950687\n",
      "1.145242380708976\n",
      "1.1589210408339508\n"
     ]
    }
   ],
   "source": [
    "from sklearn.metrics import mean_squared_error\n",
    "for i in range(200):\n",
    "    x_train, x_test, y_train, y_test = train_test_split(x, y, test_size=0.2, random_state=50)\n",
    "    from sklearn.tree import DecisionTreeRegressor\n",
    "    lm=DecisionTreeRegressor()\n",
    "    lm.fit(x_train,y_train)\n",
    "    y_pred=lm.predict(x_test)\n",
    "    mse=mean_squared_error(y_test,y_pred)\n",
    "    rmse = np.sqrt(mse)\n",
    "    print(rmse)"
   ]
  },
  {
   "cell_type": "code",
   "execution_count": 84,
   "id": "f73d1787",
   "metadata": {},
   "outputs": [
    {
     "data": {
      "text/plain": [
       "DecisionTreeRegressor()"
      ]
     },
     "execution_count": 84,
     "metadata": {},
     "output_type": "execute_result"
    }
   ],
   "source": [
    "from sklearn.tree import DecisionTreeRegressor\n",
    "regressor = DecisionTreeRegressor()\n",
    "regressor.fit(x_train,y_train)"
   ]
  },
  {
   "cell_type": "code",
   "execution_count": 85,
   "id": "fef6b2b1",
   "metadata": {},
   "outputs": [
    {
     "data": {
      "text/plain": [
       "array([19.3, 22.5, 23.6, ..., 16.6, 24.5, 20.4])"
      ]
     },
     "execution_count": 85,
     "metadata": {},
     "output_type": "execute_result"
    }
   ],
   "source": [
    "y_pred = regressor.predict(x_test)\n",
    "y_pred"
   ]
  },
  {
   "cell_type": "code",
   "execution_count": 86,
   "id": "71e3d599",
   "metadata": {},
   "outputs": [
    {
     "data": {
      "text/plain": [
       "100.0"
      ]
     },
     "execution_count": 86,
     "metadata": {},
     "output_type": "execute_result"
    }
   ],
   "source": [
    "dt_accuracy = round(regressor.score(x_train,y_train)*100,2)\n",
    "dt_accuracy"
   ]
  },
  {
   "cell_type": "markdown",
   "id": "f2517f85",
   "metadata": {},
   "source": [
    "The accuarcy score for Decession Tree was 100"
   ]
  },
  {
   "cell_type": "code",
   "execution_count": 87,
   "id": "40fcee56",
   "metadata": {},
   "outputs": [
    {
     "data": {
      "text/plain": [
       "LinearRegression()"
      ]
     },
     "execution_count": 87,
     "metadata": {},
     "output_type": "execute_result"
    }
   ],
   "source": [
    "from sklearn.linear_model import LinearRegression\n",
    "regressor = LinearRegression()\n",
    "regressor.fit(x_train,y_train)"
   ]
  },
  {
   "cell_type": "code",
   "execution_count": 88,
   "id": "b459d13a",
   "metadata": {},
   "outputs": [
    {
     "data": {
      "text/plain": [
       "array([21.04897584, 22.14919145, 23.23384254, ..., 15.43338907,\n",
       "       24.3630501 , 19.94174949])"
      ]
     },
     "execution_count": 88,
     "metadata": {},
     "output_type": "execute_result"
    }
   ],
   "source": [
    "y_pred = regressor.predict(x_test)\n",
    "y_pred"
   ]
  },
  {
   "cell_type": "code",
   "execution_count": 89,
   "id": "e0ee0d9f",
   "metadata": {},
   "outputs": [
    {
     "data": {
      "text/plain": [
       "83.25"
      ]
     },
     "execution_count": 89,
     "metadata": {},
     "output_type": "execute_result"
    }
   ],
   "source": [
    "lr_accuracy = round(regressor.score(x_train,y_train)*100,2)\n",
    "lr_accuracy"
   ]
  },
  {
   "cell_type": "markdown",
   "id": "d76c2a16",
   "metadata": {},
   "source": [
    "The accracy score for Logistic regressor is 83.25"
   ]
  },
  {
   "cell_type": "code",
   "execution_count": 90,
   "id": "77fb2914",
   "metadata": {},
   "outputs": [
    {
     "data": {
      "text/plain": [
       "RandomForestRegressor()"
      ]
     },
     "execution_count": 90,
     "metadata": {},
     "output_type": "execute_result"
    }
   ],
   "source": [
    "from sklearn.ensemble import RandomForestRegressor\n",
    "regressor = RandomForestRegressor()\n",
    "regressor.fit(x_train,y_train)"
   ]
  },
  {
   "cell_type": "code",
   "execution_count": 91,
   "id": "a9834999",
   "metadata": {},
   "outputs": [
    {
     "data": {
      "text/plain": [
       "array([20.182, 22.735, 23.141, ..., 15.708, 24.676, 20.224])"
      ]
     },
     "execution_count": 91,
     "metadata": {},
     "output_type": "execute_result"
    }
   ],
   "source": [
    "y_pred = regressor.predict(x_test)\n",
    "y_pred"
   ]
  },
  {
   "cell_type": "code",
   "execution_count": 93,
   "id": "dd7e71a0",
   "metadata": {},
   "outputs": [
    {
     "data": {
      "text/plain": [
       "98.63"
      ]
     },
     "execution_count": 93,
     "metadata": {},
     "output_type": "execute_result"
    }
   ],
   "source": [
    "raf_accuracy=round(regressor.score(x_train,y_train)*100,2)\n",
    "raf_accuracy"
   ]
  },
  {
   "cell_type": "markdown",
   "id": "9b4940f0",
   "metadata": {},
   "source": [
    "The accuracy score for RandomForest regressor is 98.63"
   ]
  },
  {
   "cell_type": "code",
   "execution_count": 94,
   "id": "2431da4b",
   "metadata": {},
   "outputs": [
    {
     "data": {
      "text/plain": [
       "SVR()"
      ]
     },
     "execution_count": 94,
     "metadata": {},
     "output_type": "execute_result"
    }
   ],
   "source": [
    "from sklearn.svm import SVR\n",
    "regressor = SVR()\n",
    "regressor.fit(x_train,y_train)"
   ]
  },
  {
   "cell_type": "code",
   "execution_count": 95,
   "id": "8c9d511d",
   "metadata": {},
   "outputs": [
    {
     "data": {
      "text/plain": [
       "array([23.28725887, 22.927681  , 23.2232476 , ..., 21.87148628,\n",
       "       23.34522483, 23.16222157])"
      ]
     },
     "execution_count": 95,
     "metadata": {},
     "output_type": "execute_result"
    }
   ],
   "source": [
    "y_pred = regressor.predict(x_test)\n",
    "y_pred"
   ]
  },
  {
   "cell_type": "code",
   "execution_count": 96,
   "id": "5cf00941",
   "metadata": {},
   "outputs": [
    {
     "data": {
      "text/plain": [
       "14.83"
      ]
     },
     "execution_count": 96,
     "metadata": {},
     "output_type": "execute_result"
    }
   ],
   "source": [
    "svr_accuracy=round(regressor.score(x_train,y_train)*100,2)\n",
    "svr_accuracy"
   ]
  },
  {
   "cell_type": "markdown",
   "id": "7592dae8",
   "metadata": {},
   "source": [
    "The accuracy score for Svr is 14.89"
   ]
  },
  {
   "cell_type": "code",
   "execution_count": 97,
   "id": "d2e09d68",
   "metadata": {},
   "outputs": [
    {
     "data": {
      "text/plain": [
       "KNeighborsRegressor()"
      ]
     },
     "execution_count": 97,
     "metadata": {},
     "output_type": "execute_result"
    }
   ],
   "source": [
    "from sklearn.neighbors import KNeighborsRegressor\n",
    "regressor = KNeighborsRegressor()\n",
    "regressor.fit(x_train,y_train)"
   ]
  },
  {
   "cell_type": "code",
   "execution_count": 98,
   "id": "583a27e5",
   "metadata": {},
   "outputs": [
    {
     "data": {
      "text/plain": [
       "array([23.2 , 21.86, 23.02, ..., 20.44, 24.32, 22.24])"
      ]
     },
     "execution_count": 98,
     "metadata": {},
     "output_type": "execute_result"
    }
   ],
   "source": [
    "y_pred = regressor.predict(x_test)\n",
    "y_pred"
   ]
  },
  {
   "cell_type": "code",
   "execution_count": 99,
   "id": "0c66155f",
   "metadata": {},
   "outputs": [
    {
     "data": {
      "text/plain": [
       "68.2"
      ]
     },
     "execution_count": 99,
     "metadata": {},
     "output_type": "execute_result"
    }
   ],
   "source": [
    "kn_accuracy=round(regressor.score(x_train,y_train)*100,2)\n",
    "kn_accuracy"
   ]
  },
  {
   "cell_type": "markdown",
   "id": "083aa18a",
   "metadata": {},
   "source": [
    "The accuracy score for kNeighbor is 68.2"
   ]
  },
  {
   "cell_type": "markdown",
   "id": "fa152eac",
   "metadata": {},
   "source": [
    "# Cross value correction"
   ]
  },
  {
   "cell_type": "code",
   "execution_count": 100,
   "id": "5e48e24b",
   "metadata": {},
   "outputs": [],
   "source": [
    "from sklearn.model_selection import cross_val_score"
   ]
  },
  {
   "cell_type": "code",
   "execution_count": 101,
   "id": "dccbdb96",
   "metadata": {},
   "outputs": [
    {
     "name": "stdout",
     "output_type": "stream",
     "text": [
      "0.6057667878470518\n"
     ]
    }
   ],
   "source": [
    "from sklearn.tree import DecisionTreeRegressor\n",
    "regressor = DecisionTreeRegressor()\n",
    "print(cross_val_score(regressor,x,y,cv=5).mean())"
   ]
  },
  {
   "cell_type": "code",
   "execution_count": 102,
   "id": "52665836",
   "metadata": {},
   "outputs": [
    {
     "name": "stdout",
     "output_type": "stream",
     "text": [
      "0.7850068742341604\n"
     ]
    }
   ],
   "source": [
    "from sklearn.ensemble import RandomForestRegressor\n",
    "regressor = RandomForestRegressor()\n",
    "print(cross_val_score(regressor,x,y,cv=5).mean())"
   ]
  },
  {
   "cell_type": "code",
   "execution_count": 103,
   "id": "63f10fa6",
   "metadata": {},
   "outputs": [
    {
     "name": "stdout",
     "output_type": "stream",
     "text": [
      "-0.062113059148852054\n"
     ]
    }
   ],
   "source": [
    "from sklearn.svm import SVR\n",
    "regressor = SVR()\n",
    "print(cross_val_score(regressor,x,y,cv=5).mean())"
   ]
  },
  {
   "cell_type": "code",
   "execution_count": 104,
   "id": "82731896",
   "metadata": {},
   "outputs": [
    {
     "name": "stdout",
     "output_type": "stream",
     "text": [
      "0.7684323004127811\n"
     ]
    }
   ],
   "source": [
    "from sklearn.linear_model import LinearRegression\n",
    "regressor = LinearRegression()\n",
    "print(cross_val_score(regressor,x,y,cv=5).mean())"
   ]
  },
  {
   "cell_type": "code",
   "execution_count": 105,
   "id": "fb8ab9d4",
   "metadata": {},
   "outputs": [
    {
     "name": "stdout",
     "output_type": "stream",
     "text": [
      "0.023073744260458717\n"
     ]
    }
   ],
   "source": [
    "from sklearn.neighbors import KNeighborsRegressor\n",
    "regressor = KNeighborsRegressor()\n",
    "print(cross_val_score(regressor,x,y,cv=5).mean())"
   ]
  },
  {
   "cell_type": "markdown",
   "id": "3e80e53e",
   "metadata": {},
   "source": [
    "So by above cross validation report values are as follows: \n",
    "\n",
    "a) Decession Tree Regressor is 60.57\n",
    "\n",
    "b) Random Forest Regressor is 78.5\n",
    "\n",
    "c) Support Machine Vector Regreesor is -0.62\n",
    "\n",
    "d) Linear Regression is 76.84\n",
    "\n",
    "e) KNeighbor Regressor is 0.23"
   ]
  },
  {
   "cell_type": "markdown",
   "id": "eea7d3b0",
   "metadata": {},
   "source": [
    "# Hyperparameter tunning"
   ]
  },
  {
   "cell_type": "code",
   "execution_count": 106,
   "id": "133564f1",
   "metadata": {},
   "outputs": [],
   "source": [
    "from sklearn.model_selection import GridSearchCV"
   ]
  },
  {
   "cell_type": "code",
   "execution_count": 107,
   "id": "5f0a33d4",
   "metadata": {},
   "outputs": [],
   "source": [
    "parameter = {\"max_depth\":[1,3,5,7,9,11,12],\n",
    "             'criterion':['mse','friedman_mse']}"
   ]
  },
  {
   "cell_type": "code",
   "execution_count": 108,
   "id": "843ec8cf",
   "metadata": {},
   "outputs": [],
   "source": [
    "GCV = GridSearchCV(DecisionTreeRegressor(),parameter,cv=5)"
   ]
  },
  {
   "cell_type": "code",
   "execution_count": 109,
   "id": "0b959c30",
   "metadata": {},
   "outputs": [
    {
     "data": {
      "text/plain": [
       "GridSearchCV(cv=5, estimator=DecisionTreeRegressor(),\n",
       "             param_grid={'criterion': ['mse', 'friedman_mse'],\n",
       "                         'max_depth': [1, 3, 5, 7, 9, 11, 12]})"
      ]
     },
     "execution_count": 109,
     "metadata": {},
     "output_type": "execute_result"
    }
   ],
   "source": [
    "GCV.fit(x_train,y_train)"
   ]
  },
  {
   "cell_type": "code",
   "execution_count": 110,
   "id": "e49b96da",
   "metadata": {},
   "outputs": [
    {
     "data": {
      "text/plain": [
       "{'criterion': 'friedman_mse', 'max_depth': 9}"
      ]
     },
     "execution_count": 110,
     "metadata": {},
     "output_type": "execute_result"
    }
   ],
   "source": [
    "GCV.best_params_"
   ]
  },
  {
   "cell_type": "markdown",
   "id": "a868ba0a",
   "metadata": {},
   "source": [
    "# The Final Model"
   ]
  },
  {
   "cell_type": "code",
   "execution_count": 111,
   "id": "7a2a28cf",
   "metadata": {},
   "outputs": [
    {
     "name": "stdout",
     "output_type": "stream",
     "text": [
      "77.30110630290537\n"
     ]
    }
   ],
   "source": [
    "from sklearn.tree import DecisionTreeRegressor\n",
    "regressor = DecisionTreeRegressor()\n",
    "regressor.fit(x_train,y_train)\n",
    "Final_mod = DecisionTreeRegressor()\n",
    "Final_mod.fit(x_train,y_train)\n",
    "pred = Final_mod.predict(x_test)\n",
    "print((regressor.score(x_test,y_test)*100))"
   ]
  },
  {
   "cell_type": "markdown",
   "id": "347dfa05",
   "metadata": {},
   "source": [
    "# Saving The Model"
   ]
  },
  {
   "cell_type": "code",
   "execution_count": 112,
   "id": "601ca6c2",
   "metadata": {},
   "outputs": [
    {
     "data": {
      "text/plain": [
       "['FinalModle.pkl']"
      ]
     },
     "execution_count": 112,
     "metadata": {},
     "output_type": "execute_result"
    }
   ],
   "source": [
    "import joblib\n",
    "joblib.dump(Final_mod,\"FinalModle.pkl\")"
   ]
  },
  {
   "cell_type": "markdown",
   "id": "1170c67f",
   "metadata": {},
   "source": [
    "# Prediction Method"
   ]
  },
  {
   "cell_type": "code",
   "execution_count": 113,
   "id": "8bbc118e",
   "metadata": {},
   "outputs": [
    {
     "name": "stdout",
     "output_type": "stream",
     "text": [
      "[20.1        22.4        22.6        22.2        23.2        26.5\n",
      " 22.93222006 23.6        22.8        20.5        24.3        24.8\n",
      " 22.9        24.8        23.8        24.         22.6        20.9\n",
      " 23.3        16.7        20.8        26.9        26.4        21.7\n",
      " 23.8        20.5        22.5        22.93222006 24.3        26.2\n",
      " 22.9        21.6        27.4        22.9        23.3        21.3       ]\n",
      "[19.7 22.4 23.8 21.3 23.5 26.1 22.4 23.  24.1 22.5 23.2 26.4 20.7 24.5\n",
      " 24.  25.7 23.5 19.9 24.5 18.3 21.7 26.5 27.1 19.  21.7 19.5 24.6 23.3\n",
      " 25.3 26.7 24.6 21.6 27.2 23.  25.1 20.9]\n"
     ]
    }
   ],
   "source": [
    "Final_mod = DecisionTreeRegressor()\n",
    "Final_mod.fit(x_train,y_train)\n",
    "pred = Final_mod.predict(x_test)\n",
    "preds = regressor.predict(x_test)\n",
    "print(preds[:36])\n",
    "print(y_test[:36].values)"
   ]
  }
 ],
 "metadata": {
  "kernelspec": {
   "display_name": "Python 3",
   "language": "python",
   "name": "python3"
  },
  "language_info": {
   "codemirror_mode": {
    "name": "ipython",
    "version": 3
   },
   "file_extension": ".py",
   "mimetype": "text/x-python",
   "name": "python",
   "nbconvert_exporter": "python",
   "pygments_lexer": "ipython3",
   "version": "3.8.8"
  }
 },
 "nbformat": 4,
 "nbformat_minor": 5
}
